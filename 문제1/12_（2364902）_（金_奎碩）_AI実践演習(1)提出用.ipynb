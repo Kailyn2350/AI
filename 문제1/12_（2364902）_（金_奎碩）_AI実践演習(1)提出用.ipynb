{
  "cells": [
    {
      "cell_type": "markdown",
      "metadata": {
        "id": "L0PUOIFctkg-"
      },
      "source": [
        "# AI実践演習(1)提出用\n",
        "* 学籍番号：2364902\n",
        "* 氏名：金 奎碩"
      ]
    },
    {
      "cell_type": "markdown",
      "metadata": {
        "id": "m_0scVSg6hm6"
      },
      "source": [
        "\n",
        "\n",
        "---\n",
        "\n",
        "\n",
        "## 演習(1)-1: Irisデータセットの分類を行うニューラルネットワークの実装"
      ]
    },
    {
      "cell_type": "markdown",
      "source": [
        "### 1. データセットの確認＆ロード"
      ],
      "metadata": {
        "id": "GcKDOIRslaJl"
      }
    },
    {
      "cell_type": "code",
      "source": [
        "from sklearn.datasets import load_iris\n",
        "\n",
        "iris = load_iris()\n",
        "print('正解データ')\n",
        "print(iris.target)\n",
        "print()\n",
        "\n",
        "print('分類結果のクラス名')\n",
        "print(iris.target_names)\n",
        "print()\n",
        "\n",
        "print('学習データの特徴名')\n",
        "print(iris.feature_names)\n",
        "print()\n",
        "\n",
        "print('学習データ')\n",
        "print(iris.data.shape)\n",
        "\n",
        "import pandas as pd\n",
        "pd.DataFrame(iris.data, columns=iris.feature_names)\n",
        "\n",
        "X_train = iris['data']\n",
        "Y_train = iris['target']\n",
        "\n",
        "from sklearn.preprocessing import StandardScaler\n",
        "import tensorflow as tf\n",
        "scaler = StandardScaler()\n",
        "\n",
        "scaler.fit(X_train)\n",
        "\n",
        "# データ前処理\n",
        "X_train = scaler.transform(X_train) # 入力データ標準化\n",
        "Y_train = tf.keras.utils.to_categorical(Y_train, num_classes=3) # One-Hot Encoding\n",
        "\n"
      ],
      "metadata": {
        "colab": {
          "base_uri": "https://localhost:8080/"
        },
        "id": "9LXKrHlUlPcT",
        "outputId": "12343877-18a7-4e1d-c880-33663452c750"
      },
      "execution_count": 1,
      "outputs": [
        {
          "output_type": "stream",
          "name": "stdout",
          "text": [
            "正解データ\n",
            "[0 0 0 0 0 0 0 0 0 0 0 0 0 0 0 0 0 0 0 0 0 0 0 0 0 0 0 0 0 0 0 0 0 0 0 0 0\n",
            " 0 0 0 0 0 0 0 0 0 0 0 0 0 1 1 1 1 1 1 1 1 1 1 1 1 1 1 1 1 1 1 1 1 1 1 1 1\n",
            " 1 1 1 1 1 1 1 1 1 1 1 1 1 1 1 1 1 1 1 1 1 1 1 1 1 1 2 2 2 2 2 2 2 2 2 2 2\n",
            " 2 2 2 2 2 2 2 2 2 2 2 2 2 2 2 2 2 2 2 2 2 2 2 2 2 2 2 2 2 2 2 2 2 2 2 2 2\n",
            " 2 2]\n",
            "\n",
            "分類結果のクラス名\n",
            "['setosa' 'versicolor' 'virginica']\n",
            "\n",
            "学習データの特徴名\n",
            "['sepal length (cm)', 'sepal width (cm)', 'petal length (cm)', 'petal width (cm)']\n",
            "\n",
            "学習データ\n",
            "(150, 4)\n"
          ]
        }
      ]
    },
    {
      "cell_type": "markdown",
      "source": [
        "データセットの特徴\n",
        "\n",
        "\n",
        "1.   データセットの大きさ：(150, 4)\n",
        "  * サンプルの数：150個\n",
        "  * 特性（feature）の数：4個\n",
        "   （['sepal length (cm)', 'sepal width (cm)', 'petal length (cm)', 'petal width (cm)']）\n",
        "2.   分類結果のクラス情報\n",
        "  *   0:setosa\n",
        "  *   1:versicolor\n",
        "  *   2:virginica\n",
        "\n",
        "\n",
        "One-Hot Encodingとは整数のラベルをベクトルの形に変換することを意味する。\n",
        "\n",
        "ここの分類結果のクラス情報を見ると[0, 1, 2]である。しかし、整数のまま使ったらクラスの間の順序を学習する可能性がある。\n",
        "\n",
        "よって、[0, 1, 2]の形から\n",
        "\n",
        "* 0 -> [1, 0, 0]\n",
        "* 1 -> [0, 1, 0]\n",
        "* 2 -> [0, 0, 1]\n",
        "\n",
        "の形に変換することをOne-Hot Encodingである。\n",
        "\n",
        "また、出力関数のSoftmaxが確率値で出力する。\n",
        "\n",
        "これをOne-Hot Encodingと比較することで損失関数(categorical_crossentropy)が計算できるからである。\n",
        "\n",
        "\n",
        "\n",
        "\n",
        "\n"
      ],
      "metadata": {
        "id": "nCrT3Kkmlh4I"
      }
    },
    {
      "cell_type": "markdown",
      "source": [
        "### 2. モデル作成"
      ],
      "metadata": {
        "id": "_OLP4FiHn4wk"
      }
    },
    {
      "cell_type": "code",
      "source": [
        "import tensorflow as tf\n",
        "from tensorflow.keras.models import Sequential\n",
        "from tensorflow.keras.layers import Dense\n",
        "\n",
        "# モデル作成\n",
        "model = Sequential([\n",
        "    Dense(16, activation='relu', input_shape=(4,)),\n",
        "    Dense(8, activation='relu'),\n",
        "    Dense(3, activation='softmax')\n",
        "])\n",
        "\n",
        "# モデルコンパイル\n",
        "model.compile(optimizer='adam', loss='categorical_crossentropy', metrics=['accuracy'])"
      ],
      "metadata": {
        "colab": {
          "base_uri": "https://localhost:8080/"
        },
        "id": "kxfaE1LboCLj",
        "outputId": "2fd9d687-884c-4022-d999-0effbcc4967c"
      },
      "execution_count": 2,
      "outputs": [
        {
          "output_type": "stream",
          "name": "stderr",
          "text": [
            "/usr/local/lib/python3.10/dist-packages/keras/src/layers/core/dense.py:87: UserWarning: Do not pass an `input_shape`/`input_dim` argument to a layer. When using Sequential models, prefer using an `Input(shape)` object as the first layer in the model instead.\n",
            "  super().__init__(activity_regularizer=activity_regularizer, **kwargs)\n"
          ]
        }
      ]
    },
    {
      "cell_type": "markdown",
      "source": [
        "ここでは一番基本的な三つの層を作成する。\n",
        "1. 入力層(Input Layer)\n",
        "* データをそのまま受け入れる層（input_shape=(4,)の部分である。）\n",
        "* 入力データの特性の数である4個のニューロンを持っている。\n",
        "2. 隠れ層(Hidden Layer)\n",
        "* Dense(16, activation='relu')\n",
        "  \n",
        "  16個のニューロンを持っている。活性化関数は`relu`を使っている\n",
        "* Dense(8, activation='relu')\n",
        "\n",
        "  8個のニューロンを持っている。活性化関数は`relu`を使っている\n",
        "3. 出力層(Output Layer)\n",
        "* 出力層であり、3個のニューロンを持っている。3個のクラスに分類する問題なので3個のニューロンが存在する。活性化関数は`softmax`を利用している。\n"
      ],
      "metadata": {
        "id": "AD7I14lV_3Yf"
      }
    },
    {
      "cell_type": "markdown",
      "source": [
        "### 3. モデル学習"
      ],
      "metadata": {
        "id": "zkxeAGg9q1u0"
      }
    },
    {
      "cell_type": "code",
      "source": [
        "# モデル学習\n",
        "history = model.fit(X_train, Y_train, epochs=100, batch_size=16, verbose=0)"
      ],
      "metadata": {
        "id": "ibVmc7UcoyHN"
      },
      "execution_count": 3,
      "outputs": []
    },
    {
      "cell_type": "markdown",
      "source": [
        "### 4. 学習の推移"
      ],
      "metadata": {
        "id": "BtRmk4QQq475"
      }
    },
    {
      "cell_type": "code",
      "source": [
        "import matplotlib.pyplot as plt\n",
        "\n",
        "# グラフプロット\n",
        "plt.plot(history.history['loss'], label='Loss')\n",
        "plt.plot(history.history['accuracy'], label='Accuracy')\n",
        "plt.xlabel('Epochs')\n",
        "plt.ylabel('Value')\n",
        "plt.legend()\n",
        "plt.title('Learning Curve')\n",
        "plt.show()\n"
      ],
      "metadata": {
        "colab": {
          "base_uri": "https://localhost:8080/",
          "height": 472
        },
        "id": "2Y5VYAoPpOYa",
        "outputId": "9a718f43-8c51-4867-a987-7f82c8b9a89b"
      },
      "execution_count": 4,
      "outputs": [
        {
          "output_type": "display_data",
          "data": {
            "text/plain": [
              "<Figure size 640x480 with 1 Axes>"
            ],
            "image/png": "[encoded data removed]"
          },
          "metadata": {}
        }
      ]
    },
    {
      "cell_type": "markdown",
      "source": [
        "グラフを見るとEpochsが増えるたびに損失(Loss)は減って正確度(Accuracy)は増えていることが確認できる。よって、正しく損失は減って正確度は上がる学習を行っている。"
      ],
      "metadata": {
        "id": "M5TDP17vEqvx"
      }
    },
    {
      "cell_type": "markdown",
      "source": [
        "https://qiita.com/ohtsuka-shota/items/4e0634d0f0fc3a46784b"
      ],
      "metadata": {
        "id": "NTyfFcCdkagE"
      }
    },
    {
      "cell_type": "markdown",
      "metadata": {
        "id": "Ck94uCqGuKrB"
      },
      "source": [
        "\n",
        "\n",
        "---\n",
        "\n",
        "\n",
        "## 演習(1)-2: 自身の手書き数字を認識するプログラムの作成\n",
        "\n"
      ]
    },
    {
      "cell_type": "markdown",
      "source": [
        "### 2-1. 学習させるデバイスの設定"
      ],
      "metadata": {
        "id": "RTsFcodgF_5E"
      }
    },
    {
      "cell_type": "code",
      "source": [
        "import torch\n",
        "\n",
        "# デバイス設定\n",
        "if torch.cuda.is_available():\n",
        "    device = \"cuda\"\n",
        "elif torch.backends.mps.is_available():\n",
        "    device = \"mps\"\n",
        "else:\n",
        "    device = \"cpu\"\n",
        "\n",
        "print(f\"Using {device} device\")"
      ],
      "metadata": {
        "colab": {
          "base_uri": "https://localhost:8080/"
        },
        "id": "gvZgznuqF-i8",
        "outputId": "7851ae98-ac56-4864-81b8-d50a37b4e740"
      },
      "execution_count": 5,
      "outputs": [
        {
          "output_type": "stream",
          "name": "stdout",
          "text": [
            "Using cpu device\n"
          ]
        }
      ]
    },
    {
      "cell_type": "markdown",
      "source": [
        "### 2-2. データの準備"
      ],
      "metadata": {
        "id": "mPrGz8-RGLz5"
      }
    },
    {
      "cell_type": "code",
      "source": [
        "from torchvision import datasets\n",
        "from torchvision.transforms import ToTensor\n",
        "from torch.utils.data import DataLoader\n",
        "\n",
        "# データセットをダウンロードし、トレーニングデータを作成する。\n",
        "training_data = datasets.MNIST(\n",
        "    root=\"data\",\n",
        "    train=True,\n",
        "    download=True,\n",
        "    transform=ToTensor(),\n",
        ")\n",
        "\n",
        "# DataLoaderを使用して、データセットをミニバッチに分割します\n",
        "train_dataloader = DataLoader(training_data, batch_size=50, shuffle=True)"
      ],
      "metadata": {
        "colab": {
          "base_uri": "https://localhost:8080/"
        },
        "id": "iDoSZiHAGLkU",
        "outputId": "fac4ae27-011d-412a-bfb6-d3e82274b2cd"
      },
      "execution_count": 6,
      "outputs": [
        {
          "output_type": "stream",
          "name": "stdout",
          "text": [
            "Downloading http://yann.lecun.com/exdb/mnist/train-images-idx3-ubyte.gz\n",
            "Failed to download (trying next):\n",
            "HTTP Error 403: Forbidden\n",
            "\n",
            "Downloading https://ossci-datasets.s3.amazonaws.com/mnist/train-images-idx3-ubyte.gz\n",
            "Downloading https://ossci-datasets.s3.amazonaws.com/mnist/train-images-idx3-ubyte.gz to data/MNIST/raw/train-images-idx3-ubyte.gz\n"
          ]
        },
        {
          "output_type": "stream",
          "name": "stderr",
          "text": [
            "100%|██████████| 9.91M/9.91M [00:00<00:00, 12.7MB/s]\n"
          ]
        },
        {
          "output_type": "stream",
          "name": "stdout",
          "text": [
            "Extracting data/MNIST/raw/train-images-idx3-ubyte.gz to data/MNIST/raw\n",
            "\n",
            "Downloading http://yann.lecun.com/exdb/mnist/train-labels-idx1-ubyte.gz\n",
            "Failed to download (trying next):\n",
            "HTTP Error 403: Forbidden\n",
            "\n",
            "Downloading https://ossci-datasets.s3.amazonaws.com/mnist/train-labels-idx1-ubyte.gz\n",
            "Downloading https://ossci-datasets.s3.amazonaws.com/mnist/train-labels-idx1-ubyte.gz to data/MNIST/raw/train-labels-idx1-ubyte.gz\n"
          ]
        },
        {
          "output_type": "stream",
          "name": "stderr",
          "text": [
            "100%|██████████| 28.9k/28.9k [00:00<00:00, 348kB/s]\n"
          ]
        },
        {
          "output_type": "stream",
          "name": "stdout",
          "text": [
            "Extracting data/MNIST/raw/train-labels-idx1-ubyte.gz to data/MNIST/raw\n",
            "\n",
            "Downloading http://yann.lecun.com/exdb/mnist/t10k-images-idx3-ubyte.gz\n",
            "Failed to download (trying next):\n",
            "HTTP Error 403: Forbidden\n",
            "\n",
            "Downloading https://ossci-datasets.s3.amazonaws.com/mnist/t10k-images-idx3-ubyte.gz\n",
            "Downloading https://ossci-datasets.s3.amazonaws.com/mnist/t10k-images-idx3-ubyte.gz to data/MNIST/raw/t10k-images-idx3-ubyte.gz\n"
          ]
        },
        {
          "output_type": "stream",
          "name": "stderr",
          "text": [
            "100%|██████████| 1.65M/1.65M [00:00<00:00, 2.75MB/s]\n"
          ]
        },
        {
          "output_type": "stream",
          "name": "stdout",
          "text": [
            "Extracting data/MNIST/raw/t10k-images-idx3-ubyte.gz to data/MNIST/raw\n",
            "\n",
            "Downloading http://yann.lecun.com/exdb/mnist/t10k-labels-idx1-ubyte.gz\n",
            "Failed to download (trying next):\n",
            "HTTP Error 403: Forbidden\n",
            "\n",
            "Downloading https://ossci-datasets.s3.amazonaws.com/mnist/t10k-labels-idx1-ubyte.gz\n",
            "Downloading https://ossci-datasets.s3.amazonaws.com/mnist/t10k-labels-idx1-ubyte.gz to data/MNIST/raw/t10k-labels-idx1-ubyte.gz\n"
          ]
        },
        {
          "output_type": "stream",
          "name": "stderr",
          "text": [
            "100%|██████████| 4.54k/4.54k [00:00<00:00, 3.09MB/s]\n"
          ]
        },
        {
          "output_type": "stream",
          "name": "stdout",
          "text": [
            "Extracting data/MNIST/raw/t10k-labels-idx1-ubyte.gz to data/MNIST/raw\n",
            "\n"
          ]
        }
      ]
    },
    {
      "cell_type": "markdown",
      "source": [
        "### 2-3. 学習モデルの設定"
      ],
      "metadata": {
        "id": "z_c3GK27GTx6"
      }
    },
    {
      "cell_type": "code",
      "source": [
        "from torch import nn\n",
        "\n",
        "# CNNモデルを定義する\n",
        "class CNN(nn.Module):\n",
        "    def __init__(self):\n",
        "        super().__init__()\n",
        "        self.linear_stack = nn.Sequential(\n",
        "            nn.Conv2d(1, 16, kernel_size=(3, 3), stride=(1, 1), padding=1),  # 畳み込み層1\n",
        "            nn.BatchNorm2d(16),\n",
        "            nn.ReLU(),\n",
        "            nn.MaxPool2d(2, 2),  # プーリング層1\n",
        "            nn.Conv2d(16, 32, kernel_size=(3, 3), stride=(1, 1), padding=1),  # 畳み込み層2\n",
        "            nn.BatchNorm2d(32),\n",
        "            nn.ReLU(),\n",
        "            nn.MaxPool2d(2, 2),  # プーリング層2\n",
        "            nn.Conv2d(32, 64, kernel_size=(3, 3), stride=(1, 1), padding=1),  # 畳み込み層3\n",
        "            nn.BatchNorm2d(64),\n",
        "            nn.ReLU(),\n",
        "            nn.MaxPool2d(2, 2),  # プーリング層3\n",
        "            nn.Flatten(),\n",
        "            nn.Linear(64 * 3 * 3, 128),  # 全結合層1\n",
        "            nn.ReLU(),\n",
        "            nn.Dropout(0.4),  # 過学習を防ぐためのドロップアウト\n",
        "            nn.Linear(128, 10),  # 全結合層2 (出力層)\n",
        "        )\n",
        "\n",
        "    def forward(self, x):\n",
        "        logits = self.linear_stack(x)\n",
        "        return logits\n",
        "\n",
        "model_cnn = CNN().to(device)\n",
        "print(model_cnn)"
      ],
      "metadata": {
        "colab": {
          "base_uri": "https://localhost:8080/"
        },
        "id": "sv8Xk4rfGTVW",
        "outputId": "8f4c9d96-e583-4e40-c454-725399c4baae"
      },
      "execution_count": 7,
      "outputs": [
        {
          "output_type": "stream",
          "name": "stdout",
          "text": [
            "CNN(\n",
            "  (linear_stack): Sequential(\n",
            "    (0): Conv2d(1, 16, kernel_size=(3, 3), stride=(1, 1), padding=(1, 1))\n",
            "    (1): BatchNorm2d(16, eps=1e-05, momentum=0.1, affine=True, track_running_stats=True)\n",
            "    (2): ReLU()\n",
            "    (3): MaxPool2d(kernel_size=2, stride=2, padding=0, dilation=1, ceil_mode=False)\n",
            "    (4): Conv2d(16, 32, kernel_size=(3, 3), stride=(1, 1), padding=(1, 1))\n",
            "    (5): BatchNorm2d(32, eps=1e-05, momentum=0.1, affine=True, track_running_stats=True)\n",
            "    (6): ReLU()\n",
            "    (7): MaxPool2d(kernel_size=2, stride=2, padding=0, dilation=1, ceil_mode=False)\n",
            "    (8): Conv2d(32, 64, kernel_size=(3, 3), stride=(1, 1), padding=(1, 1))\n",
            "    (9): BatchNorm2d(64, eps=1e-05, momentum=0.1, affine=True, track_running_stats=True)\n",
            "    (10): ReLU()\n",
            "    (11): MaxPool2d(kernel_size=2, stride=2, padding=0, dilation=1, ceil_mode=False)\n",
            "    (12): Flatten(start_dim=1, end_dim=-1)\n",
            "    (13): Linear(in_features=576, out_features=128, bias=True)\n",
            "    (14): ReLU()\n",
            "    (15): Dropout(p=0.4, inplace=False)\n",
            "    (16): Linear(in_features=128, out_features=10, bias=True)\n",
            "  )\n",
            ")\n"
          ]
        }
      ]
    },
    {
      "cell_type": "markdown",
      "source": [
        "### 2-4. モデルの学習および検証のための関数を定義"
      ],
      "metadata": {
        "id": "2kPfa9AOHwOs"
      }
    },
    {
      "cell_type": "code",
      "source": [
        "from torch import nn\n",
        "\n",
        "# トレーニング関数を定義\n",
        "def train(dataloader, model, loss_fn, optimizer):\n",
        "    size = len(dataloader.dataset)\n",
        "    model.train()\n",
        "    training_loss = 0\n",
        "    correct = 0\n",
        "\n",
        "    for X, y in dataloader:\n",
        "        X, y = X.to(device), y.to(device)\n",
        "\n",
        "        # 予測と損失計算\n",
        "        pred = model(X)\n",
        "        loss = loss_fn(pred, y)\n",
        "        training_loss += loss.item()\n",
        "\n",
        "        # 正解数を計算\n",
        "        correct += (pred.argmax(1) == y).type(torch.float).sum().item()\n",
        "\n",
        "        # パラメータ更新\n",
        "        optimizer.zero_grad()\n",
        "        loss.backward()\n",
        "        optimizer.step()\n",
        "\n",
        "    training_loss /= len(dataloader)\n",
        "    accuracy = correct / size\n",
        "    print(f\"Training Avg loss: {training_loss:.4f}, Accuracy: {accuracy:.4f}\")\n",
        "    return training_loss, accuracy\n",
        "\n",
        "# 学習パラメータを設定\n",
        "loss_fn = nn.CrossEntropyLoss()\n",
        "optimizer = torch.optim.SGD(model_cnn.parameters(), lr=0.01)\n",
        "\n",
        "# ニューラルネットワークを学習\n",
        "epochs = 30\n",
        "training_loss_list = []\n",
        "training_accuracy_list = []\n",
        "for t in range(epochs):\n",
        "    print(f\"Epoch {t+1}\\n-------------------------------\")\n",
        "    training_loss, training_accuracy = train(train_dataloader, model_cnn, loss_fn, optimizer)\n",
        "    training_loss_list.append(training_loss)\n",
        "    training_accuracy_list.append(training_accuracy)\n",
        "    if training_accuracy >= 0.98: # 0.98を超えた場合学習終了（過学習を防ぐため）\n",
        "        print(\"Stopping early as accuracy reached 98%.\")\n",
        "        break\n",
        "# モデル保存\n",
        "torch.save(model_cnn.state_dict(), \"08_cnn_mnist_sample.pth\")\n",
        "print(\"Training Complete!\")\n"
      ],
      "metadata": {
        "colab": {
          "base_uri": "https://localhost:8080/"
        },
        "id": "BOc8orxXNrdp",
        "outputId": "7f820f00-07c9-4451-c3c5-56d28344b605"
      },
      "execution_count": 8,
      "outputs": [
        {
          "output_type": "stream",
          "name": "stdout",
          "text": [
            "Epoch 1\n",
            "-------------------------------\n",
            "Training Avg loss: 0.3783, Accuracy: 0.9018\n",
            "Epoch 2\n",
            "-------------------------------\n",
            "Training Avg loss: 0.0984, Accuracy: 0.9728\n",
            "Epoch 3\n",
            "-------------------------------\n",
            "Training Avg loss: 0.0722, Accuracy: 0.9793\n",
            "Epoch 4\n",
            "-------------------------------\n",
            "Training Avg loss: 0.0578, Accuracy: 0.9834\n",
            "Stopping early as accuracy reached 98%.\n",
            "Training Complete!\n"
          ]
        }
      ]
    },
    {
      "cell_type": "markdown",
      "source": [
        "### 2-5 学習したモデルを手書きで確認"
      ],
      "metadata": {
        "id": "jNpq7CeXHu66"
      }
    },
    {
      "cell_type": "code",
      "source": [
        "import matplotlib.pyplot as plt\n",
        "from PIL import Image\n",
        "import os\n",
        "\n",
        "# アップロードされた画像を使ったテスト\n",
        "folder_name = 'images'  # 手書き画像のフォルダ\n",
        "file_names = os.listdir(folder_name)  # フォルダ内の画像ファイル名を取得\n",
        "print(\"読み込んだ画像ファイル:\", file_names)\n",
        "\n",
        "# データの前処理\n",
        "images = []\n",
        "for file_name in file_names:\n",
        "    image = Image.open(os.path.join(folder_name, file_name))\n",
        "    image = image.convert('L')  # グレースケール\n",
        "    image = image.resize((28, 28))  # MNISTフォーマットにリサイズ\n",
        "    image_tensor = ToTensor()(image).unsqueeze(0)  # テンソル化\n",
        "    images.append(image_tensor)\n",
        "\n",
        "x_test = torch.cat(images).to(device)  # テンソルを結合\n",
        "\n",
        "# モデルをロードして予測\n",
        "model = CNN().to(device)\n",
        "model.load_state_dict(torch.load(\"08_cnn_mnist_sample.pth\", map_location=device))\n",
        "model.eval()\n",
        "\n",
        "with torch.no_grad():\n",
        "    predictions = model(x_test)\n",
        "    predicted_labels = predictions.argmax(1).cpu().numpy()\n",
        "\n",
        "# 結果を可視化\n",
        "for i, file_name in enumerate(file_names):\n",
        "    plt.imshow(x_test[i].squeeze(0).cpu().numpy(), cmap=\"gray\")\n",
        "    plt.title(f\"File Name: {file_name}, Predicted: {predicted_labels[i]}\")\n",
        "    plt.axis(\"off\")\n",
        "    plt.show()\n",
        "\n",
        "print(\"全ての画像の予測結果:\", predicted_labels)"
      ],
      "metadata": {
        "id": "4H_bA2_IzU79",
        "colab": {
          "base_uri": "https://localhost:8080/",
          "height": 1000
        },
        "outputId": "b8e82b17-3a87-44b5-f6aa-3c07101cd7e8"
      },
      "execution_count": 14,
      "outputs": [
        {
          "output_type": "stream",
          "name": "stdout",
          "text": [
            "読み込んだ画像ファイル: ['background.png', 'background5.png', 'background1.png', 'backgroun4.png', 'background3.png', 'background2.png']\n"
          ]
        },
        {
          "output_type": "stream",
          "name": "stderr",
          "text": [
            "<ipython-input-14-83c0b5243296>:23: FutureWarning: You are using `torch.load` with `weights_only=False` (the current default value), which uses the default pickle module implicitly. It is possible to construct malicious pickle data which will execute arbitrary code during unpickling (See https://github.com/pytorch/pytorch/blob/main/SECURITY.md#untrusted-models for more details). In a future release, the default value for `weights_only` will be flipped to `True`. This limits the functions that could be executed during unpickling. Arbitrary objects will no longer be allowed to be loaded via this mode unless they are explicitly allowlisted by the user via `torch.serialization.add_safe_globals`. We recommend you start setting `weights_only=True` for any use case where you don't have full control of the loaded file. Please open an issue on GitHub for any issues related to this experimental feature.\n",
            "  model.load_state_dict(torch.load(\"08_cnn_mnist_sample.pth\", map_location=device))\n"
          ]
        },
        {
          "output_type": "display_data",
          "data": {
            "text/plain": [
              "<Figure size 640x480 with 1 Axes>"
            ],
            "image/png": "[encoded data removed]"
          },
          "metadata": {}
        },
        {
          "output_type": "display_data",
          "data": {
            "text/plain": [
              "<Figure size 640x480 with 1 Axes>"
            ],
            "image/png": "[encoded data removed]"
          },
          "metadata": {}
        },
        {
          "output_type": "display_data",
          "data": {
            "text/plain": [
              "<Figure size 640x480 with 1 Axes>"
            ],
            "image/png": "[encoded data removed]"
          },
          "metadata": {}
        },
        {
          "output_type": "display_data",
          "data": {
            "text/plain": [
              "<Figure size 640x480 with 1 Axes>"
            ],
            "image/png": "[encoded data removed]"
          },
          "metadata": {}
        },
        {
          "output_type": "display_data",
          "data": {
            "text/plain": [
              "<Figure size 640x480 with 1 Axes>"
            ],
            "image/png": "[encoded data removed]"
          },
          "metadata": {}
        },
        {
          "output_type": "display_data",
          "data": {
            "text/plain": [
              "<Figure size 640x480 with 1 Axes>"
            ],
            "image/png": "[encoded data removed]"
          },
          "metadata": {}
        },
        {
          "output_type": "stream",
          "name": "stdout",
          "text": [
            "全ての画像の予測結果: [1 4 5 7 1 7]\n"
          ]
        }
      ]
    },
    {
      "cell_type": "markdown",
      "source": [
        "### 考察\n",
        "8回のニューラルネットワークの拡張のコードをそのまま利用して学習させた結果正確度(Accuracy)が0.98を超えなかった。\n",
        "\n",
        "よって、モデルのパラメータをできるだけ大きくして学習を行った。CNNでは正確度を上げるためにはニューロンの数をできるだけ大きくすることでより良い性能を得ることができる。\n",
        "\n",
        "しかし、パラメータを大きくすると学習時間が増えることと過学習する可能性が上がる。よって、それを防ぐためにバッチ正規化と目標の正確度になった場合学習を早期終了することで過学習と学習にかかる時間を短縮することができた。"
      ],
      "metadata": {
        "id": "n1fYIkmGJeCR"
      }
    }
  ],
  "metadata": {
    "colab": {
      "provenance": []
    },
    "kernelspec": {
      "display_name": "Python 3",
      "name": "python3"
    },
    "language_info": {
      "name": "python"
    }
  },
  "nbformat": 4,
  "nbformat_minor": 0
}