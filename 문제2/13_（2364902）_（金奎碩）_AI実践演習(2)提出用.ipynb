{
  "cells": [
    {
      "cell_type": "markdown",
      "metadata": {
        "id": "L0PUOIFctkg-"
      },
      "source": [
        "# AI実践演習(2)提出用\n",
        "* 学籍番号：2364902\n",
        "* 氏名：金 奎碩"
      ]
    },
    {
      "cell_type": "markdown",
      "metadata": {
        "id": "rGoe_XebjaUk"
      },
      "source": [
        "\n",
        "\n",
        "---\n",
        "\n",
        "\n",
        "## 演習(2): GymnasiumのCartPole環境に対するDQNを用いた強化学習の実装\n"
      ]
    },
    {
      "cell_type": "markdown",
      "source": [
        "### 1. 前準備"
      ],
      "metadata": {
        "id": "Rpa-jqp_qkuA"
      }
    },
    {
      "cell_type": "code",
      "execution_count": 1,
      "metadata": {
        "id": "i84juxyOs1CU",
        "colab": {
          "base_uri": "https://localhost:8080/"
        },
        "outputId": "0cb6f76f-b4e3-4f6a-fea4-0237c15224d4"
      },
      "outputs": [
        {
          "output_type": "stream",
          "name": "stdout",
          "text": [
            "Collecting gymnasium\n",
            "  Downloading gymnasium-1.0.0-py3-none-any.whl.metadata (9.5 kB)\n",
            "Requirement already satisfied: numpy>=1.21.0 in /usr/local/lib/python3.11/dist-packages (from gymnasium) (1.26.4)\n",
            "Requirement already satisfied: cloudpickle>=1.2.0 in /usr/local/lib/python3.11/dist-packages (from gymnasium) (3.1.0)\n",
            "Requirement already satisfied: typing-extensions>=4.3.0 in /usr/local/lib/python3.11/dist-packages (from gymnasium) (4.12.2)\n",
            "Collecting farama-notifications>=0.0.1 (from gymnasium)\n",
            "  Downloading Farama_Notifications-0.0.4-py3-none-any.whl.metadata (558 bytes)\n",
            "Downloading gymnasium-1.0.0-py3-none-any.whl (958 kB)\n",
            "\u001b[2K   \u001b[90m━━━━━━━━━━━━━━━━━━━━━━━━━━━━━━━━━━━━━━━━\u001b[0m \u001b[32m958.1/958.1 kB\u001b[0m \u001b[31m5.3 MB/s\u001b[0m eta \u001b[36m0:00:00\u001b[0m\n",
            "\u001b[?25hDownloading Farama_Notifications-0.0.4-py3-none-any.whl (2.5 kB)\n",
            "Installing collected packages: farama-notifications, gymnasium\n",
            "Successfully installed farama-notifications-0.0.4 gymnasium-1.0.0\n"
          ]
        }
      ],
      "source": [
        "# 前準備: 必要なライブラリを読み込む\n",
        "!pip install gymnasium"
      ]
    },
    {
      "cell_type": "markdown",
      "source": [
        "### 2. 学習させるデバイスの設定"
      ],
      "metadata": {
        "id": "LzzGn96Sqhmg"
      }
    },
    {
      "cell_type": "code",
      "source": [
        "import torch\n",
        "\n",
        "if torch.cuda.is_available():\n",
        "    device = \"cuda\"\n",
        "elif torch.backends.mps.is_available():\n",
        "    device = \"mps\"\n",
        "else:\n",
        "    device = \"cpu\"\n",
        "\n",
        "print(f\"Using {device} device\")"
      ],
      "metadata": {
        "colab": {
          "base_uri": "https://localhost:8080/"
        },
        "id": "-SCk5qbzZbYW",
        "outputId": "4ea4f430-0f17-4061-b8cf-b37be635270a"
      },
      "execution_count": 2,
      "outputs": [
        {
          "output_type": "stream",
          "name": "stdout",
          "text": [
            "Using cpu device\n"
          ]
        }
      ]
    },
    {
      "cell_type": "markdown",
      "source": [
        "### 3. 学習の設定（データの準備に相当）\n",
        "\n",
        "`09_深層学習の発展的トピック.ipynb`では`Pendulum-v1`を学習対象の環境としていたが\n",
        "\n",
        "今回の場合は`CartPole-v1`の環境であるためtarget_envをCartPole-v1に変更している。\n",
        "\n",
        "また、`Pendulum-v1`場合はアクションを-1と1として設定しているが今回は\n",
        "* 行動\n",
        "    * Cartを左右どちらかの方向に押す\n",
        "        * 0: Cartを左に押す\n",
        "        * 1: Cartを右に押す\n",
        "\n",
        "として設定されているので`possible_actions`を[-1, 1]から[0, 1]に変更した。\n",
        "\n",
        "そして、終了条件が以下であるため\n",
        "* 終了条件\n",
        "    * 最大ステップ数（500）に到達する\n",
        "    * Poleの角度が±12°を超える\n",
        "    * Cartの位置が±2.4を超える\n",
        "\n",
        "最大ステップ数である`max_step`を500に設定した。また、Poleの角度が±12°とCartの位置が±2.4の条件は`CartPole-v1`環境の基本動作であるため、特別に指定する必要がない。"
      ],
      "metadata": {
        "id": "Q9NVggluqsKq"
      }
    },
    {
      "cell_type": "code",
      "source": [
        "from datetime import datetime\n",
        "\n",
        "max_episode = 200  # 学習において繰り返す最大エピソード数\n",
        "max_step = 500  # 1エピソードの最大ステップ数\n",
        "n_warmup_steps = 10000  # warmupを行うステップ数\n",
        "save_interval = 1  # モデルを吐き出すステップ間隔\n",
        "possible_actions = [0, 1]  # 行動(action)の取りうる値のリスト\n",
        "gamma = 0.99  # 割引率\n",
        "epsilon = 0.1  # ε-greedyのパラメータ\n",
        "memory_size = 10000  # 取得した経験を保存するメモリバッファのサイズ\n",
        "batch_size = 128  # バッチサイズ\n",
        "target_update_interval = 10  # Double DQNにおいて、学習していない方のDQNのパラメータを更新する間隔\n",
        "result_dir = './result/pendulum' + datetime.now().strftime('%Y%m%d%H%M')  # 結果を保存するフォルダ（実行した時刻をフォルダ名に付ける）\n",
        "target_env = 'CartPole-v1'  # 学習対象の環境\n"
      ],
      "metadata": {
        "id": "zMoxEHA0ZgkX"
      },
      "execution_count": 10,
      "outputs": []
    },
    {
      "cell_type": "markdown",
      "source": [
        "### 4. 強化学習で利用するクラス・関数を定義する（学習モデルの設定と関数定義に相当）\n",
        "\n",
        "9回の授業で授業支援システムからアップロードされた\n",
        "\n",
        "「dqn_sample.py」ファイルをそのまま利用する。"
      ],
      "metadata": {
        "id": "l-c_4iytq0Xo"
      }
    },
    {
      "cell_type": "code",
      "source": [
        "from dqn_sample import Qnetwork, EpsilonGreedyPolicy"
      ],
      "metadata": {
        "id": "y6FoLGNHehiC"
      },
      "execution_count": 5,
      "outputs": []
    },
    {
      "cell_type": "markdown",
      "source": [
        "### 5. 学習の実行"
      ],
      "metadata": {
        "id": "0v02Nx09q4ey"
      }
    },
    {
      "cell_type": "markdown",
      "source": [
        "#### インスタンスの作成"
      ],
      "metadata": {
        "id": "U8DzuAyGrBwG"
      }
    },
    {
      "cell_type": "code",
      "source": [
        "import gymnasium as gym\n",
        "import os\n",
        "\n",
        "# 学習したモデルを保存するフォルダを作成\n",
        "os.makedirs(result_dir, exist_ok=True)\n",
        "print('保存先：' + result_dir)\n",
        "\n",
        "# 環境を作成\n",
        "env = gym.make(target_env)\n",
        "dim_state = env.env.observation_space.shape[0]\n",
        "\n",
        "# Q学習用のインスタンスを作成\n",
        "q_network = Qnetwork(dim_state, possible_actions, device=device, gamma=gamma)\n",
        "policy = EpsilonGreedyPolicy(q_network, epsilon=epsilon)"
      ],
      "metadata": {
        "colab": {
          "base_uri": "https://localhost:8080/"
        },
        "id": "xdXX7pBueTX_",
        "outputId": "82672933-4b15-4e26-837a-5cc89042876a"
      },
      "execution_count": 11,
      "outputs": [
        {
          "output_type": "stream",
          "name": "stdout",
          "text": [
            "保存先：./result/pendulum202501230605\n"
          ]
        }
      ]
    },
    {
      "cell_type": "markdown",
      "source": [
        "#### warm up処理\n",
        "\n",
        "`CartPole-v1`の場合基本的に終了ステップを含む、実行されたステップごとに+1として報酬が設定されているため、get_reward()のような報酬を決める関数が必要ない。\n",
        "\n",
        "よって、memory.append()にrewardをそのまま使うことでwarm up処理が可能である。"
      ],
      "metadata": {
        "id": "F_Gs5VdUrD_g"
      }
    },
    {
      "cell_type": "code",
      "source": [
        "import random\n",
        "\n",
        "print('warming up {:,} steps...'.format(n_warmup_steps))\n",
        "memory = []\n",
        "state, info = env.reset()\n",
        "for step in range(n_warmup_steps):\n",
        "    action = random.choice(possible_actions)\n",
        "\n",
        "    observation, reward, terminated, truncated, info = env.step(action)\n",
        "\n",
        "    memory.append((state, action, reward, observation, terminated, truncated))\n",
        "    state = observation\n",
        "\n",
        "    if terminated or truncated:\n",
        "        state, info = env.reset()\n",
        "\n",
        "memory = memory[-memory_size:]\n",
        "print('warming up {:,} steps... done.'.format(n_warmup_steps))"
      ],
      "metadata": {
        "colab": {
          "base_uri": "https://localhost:8080/"
        },
        "id": "8JitAgX-CTof",
        "outputId": "69afad0b-38e0-4a74-e7b3-75dd64cb7544"
      },
      "execution_count": 12,
      "outputs": [
        {
          "output_type": "stream",
          "name": "stdout",
          "text": [
            "warming up 10,000 steps...\n",
            "warming up 10,000 steps... done.\n"
          ]
        }
      ]
    },
    {
      "cell_type": "markdown",
      "source": [
        "#### DQNの学習"
      ],
      "metadata": {
        "id": "nFXu0rjPrGD_"
      }
    },
    {
      "cell_type": "code",
      "source": [
        "import os\n",
        "import random\n",
        "import numpy as np\n",
        "\n",
        "print('training {:,} episodes...'.format(max_episode))\n",
        "for episode in range(max_episode):\n",
        "    episode_rewards, losses = [], []\n",
        "    state, info = env.reset()  # 環境を初期化\n",
        "\n",
        "    for step in range(max_step):\n",
        "        action, epsilon, q_values = policy.get_action(state, possible_actions)  # 次の行動を取得\n",
        "        observation, reward, terminated, truncated, info = env.step(action)  # 行動して結果を取得\n",
        "\n",
        "        memory.append((state, action, reward, observation, terminated, truncated))  # メモリバッファに行動の結果を保存\n",
        "        episode_rewards.append(reward)  # 報酬をリストに追加\n",
        "        exps = random.sample(memory, batch_size)  # メモリバッファからミニバッチを取得\n",
        "        loss, td_error = q_network.update_on_batch(exps)  # DQNのパラメータ更新\n",
        "        losses.append(loss)  # 学習時の損失をリストに追加\n",
        "\n",
        "        if q_network.double_mode and step % target_update_interval == 0:\n",
        "            q_network.sync_target_network(soft=0.01)  # 学習していない方のネットワークにパラメータを反映\n",
        "        state = observation  # 次の行動を推定するための状態を保存\n",
        "        memory = memory[-memory_size:]  # メモリバッファのサイズを超えた分を削除\n",
        "\n",
        "        # 環境の終了条件に該当した場合\n",
        "        if terminated or truncated:\n",
        "            reward_avg = np.mean(episode_rewards)  # 報酬の平均値を計算\n",
        "            loss_avg = np.mean(losses)  # 損失の平均値を計算\n",
        "            print('episode[{}/{}] ... reward_avg:{} loss:{}'.format(episode, max_episode, reward_avg, loss_avg))\n",
        "            if episode % save_interval == 0:\n",
        "                model_path = os.path.join(result_dir, 'episode_{:03}.pth'.format(episode))\n",
        "                q_network.save_model(model_path)  # 学習済みモデルを保存\n",
        "            break\n",
        "\n",
        "env.close()  # 環境のクローズ\n",
        "print('training {:,} episodes... done.'.format(max_episode))\n"
      ],
      "metadata": {
        "colab": {
          "base_uri": "https://localhost:8080/"
        },
        "id": "-BMSMbAwHxb0",
        "outputId": "2ae8ce7d-58e1-4b57-bf66-b19e7ce078cd"
      },
      "execution_count": 16,
      "outputs": [
        {
          "output_type": "stream",
          "name": "stdout",
          "text": [
            "training 200 episodes...\n",
            "episode[0/200] ... reward_avg:1.0 loss:2881.166248361688\n",
            "episode[1/200] ... reward_avg:1.0 loss:107.62634890874227\n",
            "episode[2/200] ... reward_avg:1.0 loss:103.90321548863461\n",
            "episode[3/200] ... reward_avg:1.0 loss:101.06659766223943\n",
            "episode[4/200] ... reward_avg:1.0 loss:102.01351712544759\n",
            "episode[5/200] ... reward_avg:1.0 loss:93.76575739999835\n",
            "episode[6/200] ... reward_avg:1.0 loss:101.69937851405379\n",
            "episode[7/200] ... reward_avg:1.0 loss:106.38587745666504\n",
            "episode[8/200] ... reward_avg:1.0 loss:89.77785102688536\n",
            "episode[9/200] ... reward_avg:1.0 loss:104.91202931177048\n",
            "episode[10/200] ... reward_avg:1.0 loss:101.53616375393338\n",
            "episode[11/200] ... reward_avg:1.0 loss:120.24345787711765\n",
            "episode[12/200] ... reward_avg:1.0 loss:101.95820495409843\n",
            "episode[13/200] ... reward_avg:1.0 loss:105.32779509226481\n",
            "episode[14/200] ... reward_avg:1.0 loss:114.9558895111084\n",
            "episode[15/200] ... reward_avg:1.0 loss:93.80755267226905\n",
            "episode[16/200] ... reward_avg:1.0 loss:93.69853287983716\n",
            "episode[17/200] ... reward_avg:1.0 loss:79.38624576386951\n",
            "episode[18/200] ... reward_avg:1.0 loss:76.58531851019741\n",
            "episode[19/200] ... reward_avg:1.0 loss:67.74110961541896\n",
            "episode[20/200] ... reward_avg:1.0 loss:65.04565097974694\n",
            "episode[21/200] ... reward_avg:1.0 loss:62.30704928667117\n",
            "episode[22/200] ... reward_avg:1.0 loss:66.36825743965481\n",
            "episode[23/200] ... reward_avg:1.0 loss:69.41016987637357\n",
            "episode[24/200] ... reward_avg:1.0 loss:79.7646142414638\n",
            "episode[25/200] ... reward_avg:1.0 loss:115.4276533126831\n",
            "episode[26/200] ... reward_avg:1.0 loss:181.92462539672852\n",
            "episode[27/200] ... reward_avg:1.0 loss:150.16453427853793\n",
            "episode[29/200] ... reward_avg:1.0 loss:151.8296882433769\n",
            "episode[30/200] ... reward_avg:1.0 loss:155.58185302734375\n",
            "episode[31/200] ... reward_avg:1.0 loss:181.14840678164833\n",
            "episode[32/200] ... reward_avg:1.0 loss:86.73814877596769\n",
            "episode[33/200] ... reward_avg:1.0 loss:250.03742508888246\n",
            "episode[34/200] ... reward_avg:1.0 loss:269.4822597503662\n",
            "episode[35/200] ... reward_avg:1.0 loss:610.3747016906739\n",
            "episode[36/200] ... reward_avg:1.0 loss:610.5533459981283\n",
            "episode[37/200] ... reward_avg:1.0 loss:460.3642704447762\n",
            "episode[38/200] ... reward_avg:1.0 loss:630.4068099975586\n",
            "episode[39/200] ... reward_avg:1.0 loss:486.87263932661574\n",
            "episode[40/200] ... reward_avg:1.0 loss:803.222286769322\n",
            "episode[41/200] ... reward_avg:1.0 loss:765.1930537632534\n",
            "episode[42/200] ... reward_avg:1.0 loss:1275.4476572672527\n",
            "episode[43/200] ... reward_avg:1.0 loss:1209.5425701799063\n",
            "episode[44/200] ... reward_avg:1.0 loss:1083.6546883138021\n",
            "episode[45/200] ... reward_avg:1.0 loss:952.9000211195512\n",
            "episode[46/200] ... reward_avg:1.0 loss:1162.004805246989\n",
            "episode[47/200] ... reward_avg:1.0 loss:686.4512168884278\n",
            "episode[48/200] ... reward_avg:1.0 loss:519.9714574080247\n",
            "episode[49/200] ... reward_avg:1.0 loss:252.45117277257583\n",
            "episode[50/200] ... reward_avg:1.0 loss:190.70658752815856\n",
            "episode[51/200] ... reward_avg:1.0 loss:137.02881836891174\n",
            "episode[52/200] ... reward_avg:1.0 loss:156.5203941265742\n",
            "episode[54/200] ... reward_avg:1.0 loss:559.6925461959839\n",
            "episode[55/200] ... reward_avg:1.0 loss:1140.7524673060368\n",
            "episode[105/200] ... reward_avg:1.0 loss:11.059360133869022\n",
            "episode[106/200] ... reward_avg:1.0 loss:108.05796901295695\n",
            "episode[107/200] ... reward_avg:1.0 loss:7.5987401495697675\n",
            "episode[125/200] ... reward_avg:1.0 loss:3.3740178225283137\n",
            "episode[126/200] ... reward_avg:1.0 loss:39.53452627042706\n",
            "episode[127/200] ... reward_avg:1.0 loss:10.187970479329428\n",
            "episode[128/200] ... reward_avg:1.0 loss:137.54046919345856\n",
            "episode[129/200] ... reward_avg:1.0 loss:13.636381769180298\n",
            "episode[130/200] ... reward_avg:1.0 loss:144.74707873662314\n",
            "episode[131/200] ... reward_avg:1.0 loss:271.8494516372681\n",
            "episode[132/200] ... reward_avg:1.0 loss:222.30435733795167\n",
            "episode[133/200] ... reward_avg:1.0 loss:15.942467880249023\n",
            "episode[134/200] ... reward_avg:1.0 loss:96.55169477462769\n",
            "episode[135/200] ... reward_avg:1.0 loss:85.86185481331565\n",
            "episode[136/200] ... reward_avg:1.0 loss:35.49480856760688\n",
            "episode[137/200] ... reward_avg:1.0 loss:70.0924947308559\n",
            "episode[146/200] ... reward_avg:1.0 loss:168.7536441641794\n",
            "episode[155/200] ... reward_avg:1.0 loss:115.56673509552634\n",
            "episode[157/200] ... reward_avg:1.0 loss:58.22371737162272\n",
            "episode[158/200] ... reward_avg:1.0 loss:210.10566615110992\n",
            "episode[159/200] ... reward_avg:1.0 loss:187.90455711987002\n",
            "episode[160/200] ... reward_avg:1.0 loss:131.4801584214203\n",
            "episode[161/200] ... reward_avg:1.0 loss:91.53997166951497\n",
            "episode[162/200] ... reward_avg:1.0 loss:189.3678524017334\n",
            "episode[163/200] ... reward_avg:1.0 loss:115.27858924865723\n",
            "episode[192/200] ... reward_avg:1.0 loss:4.700403343156441\n",
            "episode[193/200] ... reward_avg:1.0 loss:6.269773720316804\n",
            "episode[194/200] ... reward_avg:1.0 loss:8.136710180792697\n",
            "episode[195/200] ... reward_avg:1.0 loss:9.448072077246273\n",
            "training 200 episodes... done.\n"
          ]
        }
      ]
    },
    {
      "cell_type": "markdown",
      "source": [
        "### 6. 学習済みモデルを用いてPendulumの予測制御を行い、結果の動画を再生する\n"
      ],
      "metadata": {
        "id": "jwl9tdMIrJEW"
      }
    },
    {
      "cell_type": "code",
      "source": [
        "import gymnasium as gym\n",
        "from gymnasium.wrappers import RecordVideo\n",
        "\n",
        "## 予測に用いる設定\n",
        "weight_path = result_dir + '/episode_{:03}.pth'.format(max_episode-1)\n",
        "max_step = 200  # 1エピソードの最大ステップ数\n",
        "possible_actions = [0, 1]  # 行動(action)の取りうる値のリスト\n",
        "episode_num = 10\n",
        "predict_movie_dir = result_dir + '/movie'\n",
        "videos = set()  # 保存したビデオ名を保存する集合\n",
        "\n",
        "## 環境を準備\n",
        "env = gym.make(target_env, render_mode='rgb_array')\n",
        "env = RecordVideo(env, predict_movie_dir)\n",
        "dim_state = env.env.observation_space.shape[0]\n",
        "\n",
        "q_network = Qnetwork(dim_state, possible_actions)\n",
        "q_network.main_network.load_state_dict(torch.load(weight_path,  map_location=device, weights_only=True))\n",
        "policy = EpsilonGreedyPolicy(q_network, epsilon=0)  # εを0にすることでランダムな行動が選択されないようにする\n",
        "\n",
        "print('start_episodes')\n",
        "for episode in range(episode_num):\n",
        "    state, info = env.reset(seed=episode)\n",
        "    score = 0\n",
        "    for step in range(max_step):\n",
        "        action, epsilon, q_values = policy.get_action(state, possible_actions)\n",
        "        next_state, reward, terminated, truncated, info = env.step(action)\n",
        "\n",
        "        score += reward\n",
        "        state = next_state\n",
        "        if terminated or truncated:\n",
        "            print('episode{}, score:{}'.format(episode, score))\n",
        "            break\n",
        "\n",
        "## 保存した動画の再生\n",
        "import base64\n",
        "import io\n",
        "import os\n",
        "from IPython.display import display, HTML\n",
        "\n",
        "## 結果の出力先を準備\n",
        "for f in os.listdir(predict_movie_dir):\n",
        "    if f.endswith('.mp4'):\n",
        "        video = io.open(predict_movie_dir + '/' + f, 'r+b').read()\n",
        "        encoded = base64.b64encode(video)\n",
        "\n",
        "        display(HTML(data='''\n",
        "            <video controls>\n",
        "            <source src=\"data:video/mp4;base64,{}\" type=\"video/mp4\" />\n",
        "            </video>\n",
        "            '''.format(encoded.decode('ascii'))))"
      ],
      "metadata": {
        "colab": {
          "base_uri": "https://localhost:8080/",
          "height": 1000
        },
        "id": "f3P3A5z6oFXZ",
        "outputId": "ba79dcfd-036e-4da5-e6cf-c5499133722a"
      },
      "execution_count": 17,
      "outputs": [
        {
          "output_type": "stream",
          "name": "stdout",
          "text": [
            "start_episodes\n",
            "episode0, score:136.0\n",
            "episode1, score:116.0\n",
            "episode2, score:118.0\n",
            "episode3, score:116.0\n",
            "episode4, score:105.0\n",
            "episode5, score:111.0\n",
            "episode6, score:123.0\n",
            "episode7, score:109.0\n",
            "episode8, score:113.0\n",
            "episode9, score:113.0\n"
          ]
        },
        {
          "output_type": "display_data",
          "data": {
            "text/plain": [
              "<IPython.core.display.HTML object>"
            ],
            "text/html": [
              "\n",
              "            <video controls>\n",
              "            <source src=\"data:video/mp4;base64,AAAAIGZ0eXBpc29tAAACAGlzb21pc28yYXZjMW1wNDEAAAAIZnJlZQAAN5ttZGF0AAACrgYF//+q3EXpvebZSLeWLNgg2SPu73gyNjQgLSBjb3JlIDE1OSByMjk5MSAxNzcxYjU1IC0gSC4yNjQvTVBFRy00IEFWQyBjb2RlYyAtIENvcHlsZWZ0IDIwMDMtMjAxOSAtIGh0dHA6Ly93d3cudmlkZW9sYW4ub3JnL3gyNjQuaHRtbCAtIG9wdGlvbnM6IGNhYmFjPTEgcmVmPTMgZGVibG9jaz0xOjA6MCBhbmFseXNlPTB4MzoweDExMyBtZT1oZXggc3VibWU9NyBwc3k9MSBwc3lfcmQ9MS4wMDowLjAwIG1peGVkX3JlZj0xIG1lX3JhbmdlPTE2IGNocm9tYV9tZT0xIHRyZWxsaXM9MSA4eDhkY3Q9MSBjcW09MCBkZWFkem9uZT0yMSwxMSBmYXN0X3Bza2lwPTEgY2hyb21hX3FwX29mZnNldD0tMiB0aHJlYWRzPTMgbG9va2FoZWFkX3RocmVhZHM9MSBzbGljZWRfdGhyZWFkcz0wIG5yPTAgZGVjaW1hdGU9MSBpbnRlcmxhY2VkPTAgYmx1cmF5X2NvbXBhdD0wIGNvbnN0cmFpbmVkX2ludHJhPTAgYmZyYW1lcz0zIGJfcHlyYW1pZD0yIGJfYWRhcHQ9MSBiX2JpYXM9MCBkaXJlY3Q9MSB3ZWlnaHRiPTEgb3Blbl9nb3A9MCB3ZWlnaHRwPTIga2V5aW50PTI1MCBrZXlpbnRfbWluPTI1IHNjZW5lY3V0PTQwIGludHJhX3JlZnJlc2g9MCByY19sb29rYWhlYWQ9NDAgcmM9Y3JmIG1idHJlZT0xIGNyZj0yMy4wIHFjb21wPTAuNjAgcXBtaW49MCBxcG1heD02OSBxcHN0ZXA9NCBpcF9yYXRpbz0xLjQwIGFxPTE6MS4wMACAAAAB2WWIhAAz//727L4FNf2f0JcRLMXaSnA+KqSAgHc0wAAAAwAAAwAAFgn0I7DkqgN3QAAAHGAFBCwCPCVC2EhH2OlcDYD/lj43pJwfkUVYHKrHSsD8TQu/qq+DY82BvQz9mcUB8twWia8wJjqpplCRWaXlP1BTrcY1sW0EHVCYD5ANKqGjsldTXOzI6GgbxOIbv7N/X6mhNYXPTi0bpvbHnTPCsYOkbAHACdhxLunzj+4CvXzJyl4qgCgcwqqzv6h2UzTVSAihPtgk26iNy3LgdfEBDcqc5jDf/MB00CCZNF1bFYxpqvaicORr+mt2ToUW+Ye9KycJANq0WIDYyIVmnrMrjZNA213HVRuWqsYxlNbbMX3N1i/lhvm3AHkS+RTriiNwlJo93Ah3l/j+P8zg/U2M8IC7JRmSAk7NzshW9J5R/3VApbjdoCezUBxPkF4gd5qNwTzS9M9kfwK84Xtt3H9r9OPfoY87cWo2ybL66uxskcn9t7xXnYXqA6kYXat/siDPcOySeUd7YzaWFaBADOmFxM7HfNhGeZp+LXq3f/96tI3I7n86RvJKoyrBj+L62bWlIWU+bI2QnbWYSLc9NVqDQABRcAANSFEgAAADAAADAAADAAADAKSBAAAAkUGaJGxC//6MsAAARgq6RgFJFvJzp9elN/V6joclj54PkSZ7wI19P/iJ1Z5u29EH00PEVf2psJ057Nzw8Omya565uRMSb2sCMVBsfMI4MhtxW5z0lEUrZAocehOW5hWgZW9mo7PIf76EAOPOkWCg/gixn7s/mPjAozdSqlRLoahhq3nlBcc6LTM+cyeSgx+mFigAAAAoQZ5CeIR/AAAWsyyRSms66xV+as7/N/ViKhhZa/zIWJASxkhx35EJbQAAABgBnmF0R/8AAAMB2ooebapXT8VDyqSoDPgAAAAjAZ5jakf/AAAjsh/1O4bSWaXWhrkQrDGgoMcCo+9179VsVsEAAAA3QZpnSahBaJlMCGf//p4QAABFgU5Q8hFAANGNAV/8ZBtRTEjIi91FRcs0FWfNQJut0H1caiQpgQAAACJBnoVFESwj/wAAFrxOa2H7TS5jrEN1mtB8kjTVLnZXLwK/AAAAGwGepmpH/wAAI7IanN95j0toOo9GQYWXBfZQQQAAAFxBmqtJqEFsmUwIZ//+nhAAAAMBbD0W/QAaWNij+fvhbbvo/Ajyq/qhWU1j3T70QxpbBviCVUqbjsps/tL5ngwyUR2Zm5zFnCJgdFo+i79TR7ChKT5VEG2Ghve4gAAAACZBnslFFSwj/wAAAwBywB1ACWyvkqTsXEVuHwyWuYUYK8wbb/7ZgAAAACABnuh0R/8AAAMAv11YUWwvb1ovOSuHiLOBmvv/QTPftwAAAB8BnupqR/8AAAMAvvtmYXurKRwUPgxFZRLpMwq1zjgQAAAAOkGa70moQWyZTAhn//6eEAAAAwFq9WQuVstp1ST/XAIEXeTn6QSndHEN51eGl95atxSS295CkqALcUAAAAAiQZ8NRRUsI/8AAAMAdCH/XuZHR4aYRLE7IJk9NJS/hNBgQQAAABUBnyx0R/8AAAMAtYtvPg2H31wkfl0AAAAaAZ8uakf/AAADALomnrx7RfXTGs5Q6ev19mEAAABKQZszSahBbJlMCGf//p4QAAADAWp1MBbLCehPY80Pozxp2/OZLRG0GP2AIfMg1H0WGxsgfJ+wx41+cxKmb1T+0FZxip0aATuskMAAAAAfQZ9RRRUsI/8AAAMAdCHSc0jkMp2OWvIjyTfLtOSZgQAAABABn3B0R/8AAAMAtYt+wK+BAAAAGwGfcmpH/wAABRthznTKZwhynYTqbcWbeld+2AAAADJBm3dJqEFsmUwIZ//+nhAAAEVFCDQBPzxvP37CZGkxhabpTd9afouXp8JrjzPJR6dIWAAAADtBn5VFFSwj/wAAFrxNaR5nHcl6aAC1tFanXmI/JgzHma3kXJogo9B8auXIJ593u4FYN1m2ZCjJxaD1IQAAABkBn7R0R/8AAAUcW3mSx8f/xiew63ocXSLAAAAAIQGftmpH/wAAI78ZYDN2JQDuEcbdNMvrCpu99DvpR5hTYQAAAFRBm7tJqEFsmUwIZ//+nhAAABpXsfxAFVp4A0d/ZvQ58PFgwrvZlWfqre+s4EYh8sLcAaqjtwZXmcguR7wdoP+YvQqQvmgwgzJTXB0fz1hjF4qC+pEAAAAfQZ/ZRRUsI/8AABbAn2SwuQcGTRrJFr5S9CMjG+hFgAAAABoBn/h0R/8AACOsOQWuT0h4Z5ZLmiHkvZqmwQAAABQBn/pqR/8AACOyKwcTOOGoI8CBgAAAAG5Bm/9JqEFsmUwIZ//+nhAAAEVSBnQVzKAPHbpxYjz9aRA78Bc8nIWTci3heJLqofMVd/7OeCNE4pkVN9PG4+Zpv0eolEGILgxFhN1Zel4C2ti4w/6hM8zBVl/THLNFQ8t3YIU5rYMVZyc8fI694QAAAB9Bnh1FFSwj/wAAFrxObMKkbe7VNR0N6cYy61ICV8e5AAAAJQGePHRH/wAAI7jBBrVX58KgBbdXP4Y41Hzqg5YvsXCA8yhEjUgAAAAcAZ4+akf/AAAjsisHtH5A830qcU02obBlEcciwAAAAKJBmiNJqEFsmUwIZ//+nhAAABpZCLwiABUiI0Gs3T187KWXnUcR1lhTEcMqJ/mdhLLuo+6grGmxOa4JRwiBvV4umybVJNu8xDrtdm6mgyBYIro5mOpYJgIgYhulg7sm0yXdTGqYrCJQnOF6zKVSdZhTkn7t+gmB6WUDPRZpiDZWo6VymXOlQH/rbfhUQmYld3JVXj4wQXl04LOPkJqClMHFppEAAAA+QZ5BRRUsI/8AAAhv4jHdarsZ2t6WdxWQUJ8L8UMccsASg+fkP/3je6PsvpZSdqKLtH4uvrMPk2Eg/Qr3W1IAAAAcAZ5gdEf/AAANfhLwzUddIE4l3FgFBKLT2Oi14QAAABgBnmJqR/8AAAUfNNXe24hqgkgG5IK33+AAAABnQZpnSahBbJlMCGf//p4QAABFRSi0AKpIMc0GCAkYZGJzEV8FzUfOTdmqebdMwotxadtkIUSyQqr1Nz8d4xSB8ctmo4WtwOLvYseFQEnkZD0t01/BvN83p7ALdsGguFsM9MtWU+07lwAAACBBnoVFFSwj/wAAFrVYVYl1z/46eplC7BWRm5mfI1BIsQAAAB8BnqR0R/8AACOsQmHcJdLExcboG3zmObProiiZqUiLAAAAEgGepmpH/wAADdeQXjWYtsgH+QAAAFpBmqtJqEFsmUwIZ//+nhAAAEVUq051v4wB9IEoDcYQ+Pu8/RGX0KVRDrOd/c0jf2c4EhIFIAhsyLRvP6h2nAIyIwL75cC8UVBcLF07uxHLFmDX+uRNTDxFw9IAAAAiQZ7JRRUsI/8AABa8TmzCuPBFu9n03R+mYj2hwoL5gY5FgAAAABkBnuh0R/8AAAMAuguC5vPhM8nHCY9KhB6lAAAAKwGe6mpH/wAAI78a+9ckjA3NdMEm2uPiNYFzHXjp6vuNGkopz8JiN1U+1IAAAABXQZrvSahBbJlMCGf//p4QAABFUQ5aRGcKnC11DtkxkP2+GcnPBKudDI28RRzSEQV9F6Q/abQ40/dz+hZHDYFS0RtQBTMp2ultiD8EhQU+zs7/hqJn6U2wAAAAJUGfDUUVLCP/AAAWvE2+iJ3WuGPI0ZA2wrTU8ObtkZkrzYET/ekAAAAXAZ8sdEf/AAAFHFt5kub54KCN99Y3+9EAAAAXAZ8uakf/AAAjsisHEzjhq4tCX6nnPTEAAABWQZszSahBbJlMCF///oywAABGEH2x9lMc7lmcfXcrePFSWOUQhM53VfhTPTfL5X9FUxaWJmUuGN3W8AIigKs4U1FLSd+YouLeqcWYiB2GtJOr7ntoERYAAAAyQZ9RRRUsI/8AABanynf0kAOKxesG8fN0Onhv1Yuu6wNZl3MfJn1PJEAgHU0BtVeW9qQAAAAfAZ9wdEf/AAAjwxdoqaVT24VpjmD7CF7sTSZxCq9ymwAAAC0Bn3JqR/8AACO/BCZvf57T8Jua6Wk5FKJXuw0e+Ktj1bDuumFQ7ceXOY9Me4AAAABhQZt2SahBbJlMCGf//p4QAABFZWGi/m4wLTUd5nzgH72StVoEr16Eh7pPfv/jZc2x4AI4Y+HJYRXGaoW8O9dmm3Y7lhNPKORN25Mgd0F0hiHE6/35B895KAYi3LAnaq62SAAAAChBn5RFFSwj/wAAFrxDzdiVMfgFbmgBQnWVyqvEhrFfm8tOLUfYedqRAAAALgGftWpH/wAAI78EJMSzlNOQGQeOtKNuK0+39qwQetlhYXjAVruoDFQJDmfkq7AAAABBQZu6SahBbJlMCGf//p4QAABFRGoiXTgiO4q1dplFpSjECC5z2uF7daP1bxlVrVhmEMi/OGD6/Ro85ckqCCw744EAAAA6QZ/YRRUsI/8AABazK7UFw4oAS0ztY3BMrvO9db5metWDb3bMLwsDJTrVcRppskVRu1IoShN76WrWzQAAACsBn/d0R/8AACPDF2ivpBXxB0wRMZVjFoBvnn3ZFKpMWmb77hpU6zMkAmoOAAAALwGf+WpH/wAAI78EHzuZY4AC9T2sIRTfB/AYx2Dpwik0pHJvdD/AwnTgaTVhKx+zAAAAdUGb/kmoQWyZTAhn//6eEAAARURqIl06Q0cKRZAAOurE1nocTkE+wpiC5MNPP8NXUhs1D9+6T+cFyr0pJ4llYputrhjuNQfNVhdi3RAs4Nfo+Ai8b6J40620OuvhsJGMIb8zo9Mumy8wtNMmXCTS8DnTYfyigAAAADlBnhxFFSwj/wAAFrMrtQW10WJHb/dRackpF+rlMwk3oCxOXDssxqr+Jg2JMAxupD8pGjeqyryCsGEAAAAjAZ47dEf/AAAjq/he2IAaxoLHmeovGKNfDFGD3vuXg+D7bMEAAAA5AZ49akf/AAAjscwTox5x+F5CJMOXd+oQFRLuJ0s063s1aeCTfk8/3drHrff+BABqJj316c+rA94MAAAAZEGaIkmoQWyZTAhn//6eEAAARURp9kvxBCiAFb7O5UmfaxkJee8+NULTXpGbq9y3nA2lProDPJJ4+2bH+YMB8sEJT+g7TbHxb9VH54TohEeTrHFWud+cN8g5BI3FlnVoExn2rUgAAAA5QZ5ARRUsI/8AABa7k2rHPCwXXs+AD+XiFbWYdEUz2C/KGjo5EUDRVun3dGY+Tud7i5EH+FjGxhtnAAAAJgGef3RH/wAAI6v4azDtL85FRAYiM1V94qacHw55loLM2vVoMkmAAAAAKwGeYWpH/wAAI7HMAzqXLGfOLwO1WYABdDIv4CzMjyc52J0AVJFGZq9j22cAAAB/QZpmSahBbJlMCGf//p4QAABFum875K11hV2hM2boMAUACGR1JRPBxTIj9YqwNv6MIlQoYglKsxlR2UcbOXrvau6OH5UaCo1mwq8apTlYZw7QaEAtgtD9GRGlMYvQIVh9rj7nCzM9DbJ3vi1L3A82J33OqlhQw9oafO5RCiXtkAAAADRBnoRFFSwj/wAAFrAget279ZNQAJQfyulz/JdnuacHYjCjbi7ugHM0YCYuEhIsHWXuzWknAAAAIgGeo3RH/wAAI8C438FekWUR+oHqs7c7fUyvDYRcB8GG5JkAAAAmAZ6lakf/AAAisjyvVEk5Q+j61heYaqMk/RulyKYRI74zr1V2kmEAAABEQZqqSahBbJlMCGf//p4QAABDQ9V30sKwABaA1rXq2RFpd8QnJvTepJ4URWh4xowCdoeCq8MDBUqn68HYjMlOTcF2MiEAAAAoQZ7IRRUsI/8AABYin02wiGPdljZjGX72vJ1t9i3LpdqvyalaYsVsqAAAACABnud0R/8AACLAuZWrslcDQsT3/qb7gfi6CljXe+uE+AAAACEBnulqR/8AACKuMvr9EIzY7AiD4tdfEH2baSxaxEzfcrEAAABCQZruSahBbJlMCGf//p4QAABDY8o8l254f9AB/UIQpaSNmwZbpuVT/rgPWhuPmLMuQ9TyUBwzGTR3rgd5qgY2arwqAAAAPkGfDEUVLCP/AAAWIyu1Bbk4QAYyhukPJW8dHaF9Mg2jajg0mi6IRg83n7dq7guQ09X485NBmWXcJZfBJumAAAAAJgGfK3RH/wAAIsC438FekWUR+ocN15z17YRCiKYRfiIa3bicuG9BAAAAIwGfLWpH/wAAIr8EJxLKxMfaRpTsnAP0TieQGOIbJ99IPq7hAAAAQUGbMkmoQWyZTAhf//6MsAAARAFG2J56R/HtTcRv6DbZ/8DAwAkuprpRhok6RGQ2lEtR2WFroOlXfRf6s1f8HHZhAAAAKEGfUEUVLCP/AAAWIp6otEkGsSqVMvgxCUsHc5Hg0KeIOFdfTCce34sAAAAiAZ9vdEf/AAAiwLjfwV6RZRH6gdt5TsdbZAclafTf2spOmAAAACMBn3FqR/8AACKuMS/SMtOpW5pJ4Z1Sm5K4W3Jiv5eqXFgnwQAAAFBBm3ZJqEFsmUwIX//+jLAAAEQA9rOWGw1YqbwAogaa9V2/9V7B6PvNEKq20NMufp0wcLYgBVIxD5+5oz8ql9GWoKP8vd6fPqLb6mgjSQ4RtAAAADFBn5RFFSwj/wAAFiKe3jcbR0IhAV4ABx8OImuZ3e3gnZhCPOo+TqCfvtAR2n8Wuk2AAAAAIQGfs3RH/wAAIqv4Xtg9c3i8fTjc2QKA7iDKnBt7CqmVWQAAACoBn7VqR/8AACKuMS/ReUUgpOnhE2w4AAXQtsc0uQDlFakWkN9FW9vi3oAAAABdQZu6SahBbJlMCF///oywAABEem8/3GeQBnNEk15WemABX94PeDDNIe/NPP7Vb5DJuKaT2LK6Ch6gsUPSH3lx9JCPD7JpD0nmWd+Z3sOxUtWAK1h75m1pHQECHuTBAAAAPUGf2EUVLCP/AAAWJSbjmSay+jaCkYpdRNxBwACd0xLNop++dunA5WyAz6Mp8mhFIg6LkWI2Dw5hvWGBhUEAAAA4AZ/3dEf/AAAirBUOGzkhASKOG+zmqikoVjZ3YLMPqWmfjC6IaCQugDtv2+0RWBV146tZO8rmmdMAAAA5AZ/5akf/AAAhsi7R+4GlOKgBbdXP4Y41FEx+gBDF/GOTfgZE97WPpryPPx3geAZsP1hRXNdny1SBAAAAUkGb/UmoQWyZTAhf//6MsAAAQgFG2J6Eu+mMy4u3G2IACH1W6EXqhFrJTkXMvEa6GMM8PCux3BpxrRyMOxezCU0SfwO+q+84gGhzSywe/DgDdXAAAAAsQZ4bRRUsI/8AABWblFg8n47WhD6t6fa2fHnWziua6cczUhC9kPxjrwQs/+EAAAAmAZ48akf/AAAhrjHibhJ2mfy+NDOCCH9LiN0ixZusEr2NKoKAykEAAAB0QZo+SahBbJlMCGf//p4QAAAZP+RBAETOLhCcZzd95OSUs9mJiEfyGHZkCro/1ebb6wtr2xQKQzaGlz120QWbjXoIwfquX8h1oD1Fh0ZOoqUZdtZ5N2Vvz+3+QCBQZUkyrYj1Cah/JaJmT9FyJf0B3UgB6LAAAACFQZpCSeEKUmUwIZ/+nhAAAEFD6kPLqX/oe/gCDzOkXRdvIBFwQewdz6WIbAYKeVSGK4lD8+mb/hcHwRHJkBxzlwHmk4SBrNw5yVWnsnMLcLeZi7OXqWQJw1DnIIQE1Q/2tmBAayE03fHKkoEmcVJ/nUMG+aajvwrF6Ene8U9NIdjvG4rgkAAAADFBnmBFNEwj/wAAFZKeqLQXAxvycIOB/vb7eTQzmjVJwp9QDVh+/hx5MvPbnYgm3eSBAAAAHwGen3RH/wAAIcC438FekWUR+oHQMxbomY5c+i9WnkgAAAAqAZ6Bakf/AAAhrjEv0jL0gNO+ub+CQXimccZt9O4maVEjoARArjd/6uOBAAAAgEGahkmoQWiZTAhf//6MsAAAQgFGtCwa8sryVPtT77aqpzDQkg2Hu9VW1auh4QHiP+ABNJVGpMp/C0Uk2sRlWjnoGK6Q3b7ktDyFDmA4hYzOB3cH8YKq3Io872feIMX2gFImppzlkcY76LGXxtnhmP9J1HXl/XdZhzyfk17BK1bMAAAAJUGepEURLCP/AAAVkp3IWRJy7cnR8Sm4Yi6+fCAcJ1l46mxUIqEAAAAlAZ7DdEf/AAAhwLjfwV6RZRHLcLLWb3370yoSTVGA9/YKNPtrkwAAADYBnsVqR/8AACGxzA1eFcealVtdhkAcd+NB2LGTNDVkH4GpqgjWtqQ61tw5SxBcFiFDM9CJTccAAABMQZrKSahBbJlMCF///oywAABCem89zmlXpuvweIDLNQAqtYmfFRGuKYEDm1UBkVhlJNm974YHHYTTI3+nLqG6KbBRu+d5bvhSFp9wawAAAEBBnuhFFSwj/wAAFZUl/UyrP6f2Xnrnhm5Cc7WCzdfkb3H73xKH98Y4pusrPNl1uk5wABp47huWk98x/zOPNuOAAAAAIwGfB3RH/wAAIawUQQXgPriraRwby2kllMypPfAy8KqyFG44AAAAIwGfCWpH/wAAIK4zBRo6GUQRo1QFLrvHufDC76ExNmNBtUdtAAAAQkGbDEmoQWyZTBRMM//+nhAAAD9e3HtdOD/ZiR553fKLYZjm1Z3NF6Ip19foAVnaWaLXLbp2f29z8mN4DiwEkCae6AAAACQBnytqR/8AACCuMeKApljXMiChGiJXJBIxrOpoDLEla1dPY8kAAAB5QZswSeEKUmUwIZ/+nhAAAD9ei1DwBO3Ho57VMLfsW/t3IWY08J7qUhTHH7p1wp/dEk2i3WT6t1mfMGs+KLVI6T9s819TNujP9GG0phi2KTI8/pjc80U+qiG8zQ6PIiRMKiaGcWf/zW6HYZAkQJ8F3zM/9BhEQc4SQQAAADVBn05FNEwj/wAAFQH9kQsKoAVe8CsZVG+zWj2bDmgAAtl4BpNuPtdgCzPGkTKffsrzlLyzMwAAADQBn210R/8AACA9zpe1sY0f7GZ9sA9R1lhAKOuxVZy7q4LYa/EAIHhF9r18wu95vzSZ3bunAAAAMAGfb2pH/wAAIK1GQr0IYSw0BEq3ZJSirJRRiEOOReAAQLQNFankRkjccsPb2e8rpgAAAIdBm3RJqEFomUwIZ//+nhAAAD+8Jz2/b2RSGoAIyBBN7jcgrMlHsqlr7di+c7qbadOhW9plTeDTHNzB5lM7Q8QXHTd6EuyJ+b3SCurESUBYgsSBtli1AGChbl2yKgMih2nHs+KaeKa2uYE6ej8QfK+0nb/ttR5lh7L/ol9AEtzGy+dpDoGGS0kAAAA/QZ+SRREsI/8AABULJUyICyOdFSDYVDe2R1yd4ubK75VE+IOgZ8WCmLCH9BOaOX1RKqAEtOV2K0US3tsAtD+nAAAAJgGfsXRH/wAAIMC4GTlrxqCmWb3aRQwdEJTJOundEcc9xsSpOFDwAAAAMAGfs2pH/wAAILG+Yqqldf5ou7mIT2efBAaZ1JFU/l3CO17+kAAugOv6GKGj99DlWAAAAHJBm7hJqEFsmUwIX//+jLAAAD52lmWomcp5pGPsAIp/ZsFZy4PKM4aD9G5GOZEiZyYsnvUHwMJjH7CDY74zqYZeZPPT8eft2zob2RG/0EBHj4n8PzVw44kwywZCHJNBu8X5fhAD+itVc0vWG9fnZjpqhCcAAAA1QZ/WRRUsI/8AABRx/b/nXxFcVsOFZ1NGf82YJ978KEIs5uFk6kDUJwGxIe88mHMDrSAbPKAAAAAuAZ/1dEf/AAAftnOFAV8hfLP5L+mGUd5kFoUPtxxRD0y+gAAP50KSnwPUvBPEqwAAACkBn/dqR/8AAB+47Ta9BoED0xfvmM0DvPi4L8J2Wd1QilhbuzE3c3QumQAAAGpBm/xJqEFsmUwIX//+jLAAAD5coHm4ChmJObzGEdKBq61nzQw/pXhrnUvp8E8x40i0wobUixJNVfE5yXaQWL/8J4y0VVbE8r1yBV2dQvhcPE23iFrkTTdGfHbm25YaTSlrZJixpZEh6nEcAAAAPEGeGkUVLCP/AAAUci8I+r+h8IwR4vsonpmltXHOP9Iwr62iJqgzG8gUTWgvkmVa+T1TxQEfhk1qfvQHdQAAAC4Bnjl0R/8AAB+2c02+Yg5tZMAehX/GAItnmuiclsfz27Y8rKn2EK3kvnKltE+vAAAALgGeO2pH/wAAH7jtNr0IYSw91o6Uckz7WmkS7hh6Tl/KgAlx4j+6BZi7kBahnoEAAABaQZogSahBbJlMCF///oywAAA+vCc90HtXptCbcbSrbFWD7efvXdPA2H3qmTl6eOR4JdF6WeZD0kQ/5J5d15utXqH+nj38JY1hk8yHs4QAjMfuWwdzi8DaFkAJAAAAKUGeXkUVLCP/AAAUdSTira356/zleAAWz9ykUyV03EFhC3VQK9eClClmAAAALgGefXRH/wAAH8jKWRQrZQuz+Q/w/UJw9tcayknWOL0UAIwFQDq2MuUGMed4lIAAAAAqAZ5/akf/AAAfCagNUZAXh31iobVuDzNLwz0TuAQRRNJezZjdBLlepP3RAAAAdUGaY0moQWyZTAhf//6MsAAAPPyTu9x2n9+b+zlRlmfG9n2abfkYXVfUmMLkH8ukEN9Wukbxhp+BkNlp9SAopwHcfADQAazFJS0uWRUzr1+4uOgTmvstvCswmi2TvOQDxlNqoGo6n+C0l1X8Ob3fiSeFpiseLgAAAC5BnoFFFSwj/wAAE+Iu8QteaeECaGJLKdbdr6vx7C8+Fz9fkvqupWM86jIPoEPTAAAANQGeompH/wAAHwjs2nEcyJOb/HrDgSmDFfuu54avIJ/Ji/Vdiwtz544w8YwkyQlJyZVO8F2AAAAAQ0GapEmoQWyZTAhf//6MsAAAPP0KY+HMzKjPkO8uogh9W8i3UAN0D2+CtxOGoErOHmhfDDUaVwhdx7IZ+wUuELnWRKEAAABMQZrISeEKUmUwIX/+jLAAAD1cJz3VTbcxGMGVUAAJq0soYxssSWlOdcZHN7FxdJh7Ib07Au4UCcIM6wBbXruASFFAe7nCNVzmqBUuywAAAD1BnuZFNEwj/wAAE+UTYvowaqe7IcCirpSW29L7baNw+J9KmaSUpSbLyZNG17ge8q4MK6wI3NsZACzvgF7hAAAALwGfBXRH/wAAHxgs/y8OziyiP1A6BmLc/XaB9l38ZmRdlQAnmBdsKOAVOWRhZVXlAAAAPAGfB2pH/wAAHm5FOFab+w9Y440xk/JPcgMGR+OJe2Kei8mOMulDXZVixMKi3M0t9/G/z+K3WkNSFJb0gAAAAINBmwpJqEFomUwU8L/+jLAAADun2TYKd1743FetcsWoLIVY85ykQws/Lv7yxQAqvBuS2Fg5K7X5w8bu/+VmLWxv257tf1uxDYFHnQiKDglRJj3dnu1dliPJ/eSAu5ImOhdE3VFMhEWFk/Ct7khMSrRI/vQuB6DXWMT/V4Zkjl/08LNhMAAAACcBnylqR/8AAB5Y7Npw3zwwYmYBASJ5yDmK1WDJyh7pP7jdLJnSXYEAAABhQZsuSeEKUmUwIX/+jLAAADv8Jz3V0tXptl8Cyo2ZWMb3naCjgvxR5dgRkt6u0h3FbLM/IU/t+KiDttrRWJLv1RVRhTwM5JQfG6x8uyhVY8ko4pPcVAV1C9N48c4ZRd95jAAAADdBn0xFNEwj/wAAE1Xvkw2JyswGsHYPj+oNvcgB8pErdQSVsC9IgBuwXQdA9B1mKWKvGyPbRJDAAAAAIwGfa3RH/wAAHmgsoqSmriTFJhGXuG1qE4S/kcjZGPUdTXSHAAAANQGfbWpH/wAAHlyJG/7wHO0SQsWGyTOX06SDSWGYckD3Q4DLOvbDzTNRQAcUn9EcfyHSZF8xAAAAXEGbcUmoQWiZTAhf//6MsAAAOjykS9x4WbACCH+nEHvBNzzqKQwmDbXSypDdvAxGPAdru8qU3xQGpnz5nbERH9N08zm/Wf2VQk6IOSn/MucvDzXPyoNgenQuT5ZNAAAALEGfj0URLCP/AAAS3V9utGYPu6KDJu4Dl5IXeevCGQEc1mfcJwz3TkGsXxPQAAAAOwGfsGpH/wAAHZqY5s8Awlzei6D5RWABdQB/0EK1Q4nydfiJbYgakb5S55StPB2QjQuge9V1Rq74uf5gAAAAf0GbtUmoQWyZTAhf//6MsAAAOpwnP227bURb2AogLKlLytSgFG/wbxdmNhNjg/s8AXYC4VFL5IBOSkKgNqFnsQgTvWIrG31JnSNXzna6I8HWgA12lRvNqJVX18soWffq20Lb27xQbKdGOnQNjRX3sgB6gfAlCMtGjq2QzIrS3FMAAAA9QZ/TRRUsI/8AABLX8S9EESFgkAyfrT/fBYEftsvhu1s3dU5iYcL5O2pRBty/gsGJ17hGJRXbRcPpUPENgAAAACUBn/J0R/8AAB2lzoozQyQl/oUcgLiELg5GZbEGYygxsPtlbG6AAAAAPAGf9GpH/wAAHO2uhPreTOqm2KpYB52d0bPVbrwrnzCFI27AbxoSpXOIjV99/b6LqbQV1+xl1b284OgmOQAAAFVBm/lJqEFsmUwIX//+jLAAADk8Jz3WV1OU2roaaq8p9+vmLSgUpp599HPQIQ3uKbcjADjO7DprOsWbctj0kfFhOUW2tnxOXrRCf8Xr8QTqdGSn3m7MAAAASkGeF0UVLCP/AAASVe+WKas7qw3gndo7ohAXzGLCsCzpZhIRXAvYzatzOht9sEF25pluFzJ0x+ocorMoKPQ/ACrK1tzF7vd8HnpBAAAALQGeNnRH/wAAHPXOCJ3VP41EroIM/DsPGdCYDzqEJfy8Z+F4k73WUwGJhSw3+QAAAEYBnjhqR/8AABz4BhehZ3Jj5YMI4dfMAYkQ68jfs2taHZoJEv7/t5nD0+CR0PCWSaT4BbfiRj2i/sfUAH7Ew38XOwo0bn0gAAAAdUGaPEmoQWyZTAhX//44QAAA157XVF55wCepHXn9g5X8rg3XeiAK2i6Oh+RgJtaq5FLZILRXqlGtGhjs1+ps9NTnDnUwbXxAwehUy9tsx3WvaqUzuVx0plfFaemXkfevP+Wu8gv98T6TdCriX300BkM5LwMO4QAAADJBnlpFFSwj/wAAEdX4Nr0dr9FB1fFe87Kd2h9JAAJp8mJzYzgB2XCAamJvWR0S6ABmqAAAACkBnntqR/8AABxIBdV7JyBcJXpjHJf3sAxtfoFyRe0hbgx10X+1TeQcHQAAAGdBmn1JqEFsmUwIX//+jLAAADeKzolFVAIBbY777hmlV2lO7uYWE44FnrXJsnpUaqbg7Bjuf2avfrjJuS5l6Wf8ACR2X2+lHJdE2Ot5d+TxBfJUx2Bo/8ihezZKIj/XtdKCF3cvmRRDAAAASUGagEnhClJlMCFf/jhAAADY7/zgAH6U6htv2a7IC+tOHdf4/ZookhBr4YqelMG4kfpm91/lB0PEb5fBziMkeljMQj9EAqM+aK8AAAAyQZ6+RTRMI/8AABHdJrQLVJNTFWenHy8zGxlU/vSWV0S3K1DaPuazKeO1nmVxd9bEeHwAAAAuAZ7fakf/AAAcTIkbQQvVY/55lFQAC2T07a2T0+7lbmsyB8iDgBnqV9wT2PQuCwAAAGtBmsFJqEFomUwIV//+OEAAANKcpVMyyIg5fsEKAHH3hZKtDGq3IE6Be5YwyLVQVq3kdplEbpxkJw6qO1u/9YlLeyek8WQ5jUn5HuOUrfPW+vtPy2FsIRaQY2FyGdlTg/pwh57KXnTM2tppGAAAAENBmuJJ4QpSZTAhf/6MsAAANkr+iTU9MLiQF5gn4F8+oAcdOkHw+pvxo7Lz7PoGdPGlbMbgHpGNkgMySNaGlP56YDMZAAAAekGbBUnhDomUwIV//jhAAADT7/zXmtsCcG1h3N1txZm6k5sD0AJLOfix3WGQq9wM5l5xEBsR4yR+n3o2oamNwPp53e6jpoex7bVg6Jj0OW7ekh22I2s06rXZ0A7w150JlBuhzx/dSFYQx+kKExzq3n79nJC4BDLQM73AAAAAKEGfI0URPCP/AAARXSmkAyC6lqeOLgnIVEzyUffGMwKVAdx4bsfT4pEAAAAyAZ9Eakf/AAAbn2EbQQvVY/5bDELS0AydMspqQNkaxtKBS9+TSyT4kwt4OY0yFe+jRSEAAABSQZtGSahBaJlMCFf//jhAAADNy2n17ACw5gKZr9pZeUXi9jzE04ZnPYVILeB1owFy+pUM6ghDC45n/G8h3LL7RV928ogQ5FzSjM8EBwnCw9O5gQAAAGZBm2dJ4QpSZTAhf/6MsAAANQrOZ2prDToAu7SjmO3VWKzu9Ajkm7+R9rF1am5FNfPIx+Jofm0KYaTKnz6jt6anGeiUjr/W4n9sDdgx9zXhsv+7bYs0Xp9HIqnnfCf/dXqsyRZ6RikAAAB0QZuJSeEOiZTBTRML//6MsAAANVwnSBA26gA0ZyE08dmYDFnXYxQICGOMtEGizOwp0YPExGHKgtElEbbFjUaAtBwtEHZxpcHUmcBbk16xA2wZljk6l2g8dkq0FkO7Kdj3mxOdDoWYY4tkLj5sH29lnI1SVzAAAAAlAZ+oakf/AAAbB3sz7Htz86q5UOIF+fDD1jG6RTjccg/wVmyniAAAAFlBm6tJ4Q8mUwU8L//+jLAAADPLJqJNUHVTvMH8H8JoACtaesmkXqESYzTOSSbmFD40HbQgAwOHXhPPxeTfZMBinRenLLfU4YgC1YxyP3ARbmrEmNx+o4vFwQAAADgBn8pqR/8AABpbxut7LYImLprVcxO2js7GNZ0V2zdrLXPgQjeYPmnazbPjH8yvHmZBDaJfiErpHgAAAG9Bm85J4Q8mUwIX//6MsAAANB62ZWYcaQBYDgRO+5rSS+U27eN1H8a7oQ1q2syTXRUOfi/9vILbX1QRiJUjGJbvQ1lP/+qNx0vePfTAbQ17CpscBVJsjtgp0pkesjFy2+bhZN/A+Wmx8Er4aqM87LIAAAA0QZ/sRRE8I/8AABBdNpQjwLjVGmh7SDPrsIXAvFGA3JjSObsu19ptlhRIDgbljmau+CLNwQAAAC0Bng1qR/8AABpfftRVjrkaJ5lR/TPwAShXDVTd1qCpD0y96E3o+BBnOQwnUekAAABCQZoSSahBaJlMCF///oywAAAy3o3YxuazyMee2IY6IUWFh13f2SQXXLN4fn/+KlY5jJv/VeJiGGvQXpG1Snq+sGOJAAAAM0GeMEURLCP/AAAP3lxEtZEqtQKttoTL7ksicJF1lrLG+pAA2O2r+6HUaOQD9IZYerKDgAAAADYBnk90R/8AABnI90xOoL+2NR+8+9JXsWGUDzNFk/U4XS0JeDJZjm9RN+JEdeTiJkC00XK6Al4AAAAlAZ5Rakf/AAAZv464Q+AZvyMMwpj5gxGm+KsdN0e1gVnWfL6pHQAAAGdBmlZJqEFsmUwIV//+OEAAAL/v/NesZ3AzoseVd2QO61HxPMALcCCWOfUEeHTEmLyQxw8IMfewda04340v555Ti4tR0IMqKm+ZN++eRF60emXQjfCmmV/G1FzSIxZVQcN9CJxvrWV0AAAAMkGedEUVLCP/AAAPhlxVX93+cWwY6ijYQ9dd2ilwQ0rhsh56bikyX2dAl+VFWPC3cDpAAAAAPQGek3RH/wAAGSj7Tn3qndgXkg2TWxguUHcFpwli/cVImYOu/WweK4tN50Y7PbV835QlABtEAY9iqbQoD4EAAAAhAZ6Vakf/AAAZJ5eT7Hd3tavUrEDvxBY3jb7RgOjTmIZ4AAAAZEGal0moQWyZTAhf//6MsAAAMArOiTU/2NyZMtoSv7vFABP/M044d3x9Mf3yIhjYcnrqQ+4O1jMwnH45bkANtC7F2vFFXf7wIbdMN5p8QM95GAle5vnY2/a96YBUI1Kb9DAwpjkAAABAQZq6SeEKUmUwIV/+OEAAALryfVbXT6qBtfXlzD9p1r3cJtrfVbFziXsNsC1dAkKitaXshKPoN82SeoWWCauVEQAAAChBnthFNEwj/wAADzN9Uk1eaxj3DudLkNiCRE4rW0lhnI3YdZjzvwCCAAAAIAGe+WpH/wAAGHvHDVHnSKWGpzIDKVBiW9UymThNlHRdAAAAeUGa+0moQWiZTAhf//6MsAAALtT+iTVMnKBJLlzqPThDeuQ+UKX/QRwy+hNB+Db9SAG34D5C77VQ3S8xHHOts91fGPnnIvdP+fkJ1rBWjAHF1eUmoEkti6OJq1Cg00jzIQ0W9kdy6FnSat6JRpaMy5+bJDbEUZlbXO8AAABiQZsdSeEKUmUwURLC//6MsAAALtUmp39QF46AEemjp532BbT+YTuUE355HLjUivbGjFMeb4AFMuin2v2WgXgLHH9s9cvm9lhLiKjAquiOAYdaiQdEkakn5U//RVQTWJMiT6kAAAAlAZ88akf/AAAX55eig4R7xTgncjvw8BJU4J9s2Jvv8oMNSZEUwQAAAG5Bmz9J4Q6JlMFEwv/+jLAAAC8e5cFtUBtFJrvq6ACSRv2Jte3DFbk4gy0zof4uf4qEhVS5g1Phr85A2e3g2p1BIyPs8YsPdXQ8CTLZpPZM4JQmLnDZ0hksUMIfLG8W9R7vDrLkND5rc5WAsKMxGAAAADEBn15qR/8AABfffxfVjocfD6DSIs4vpuTzdfU6Uvsd2lhhLcS1FkJuQqSYev5sVMFgAAAAg0GbQknhDyZTAhf//oywAAAt/uXBf1ZJUzuuFyJ+PxD7K8Q83KZnJ9Kf36oG0ADTAGNJ4k8Pq+UZK2DEbSLZ+AMJKeVbXiEdXNHvw7/Rup06Yp4wJp3+/lRCphYDucyI0QPigGf03ix8XLHoYKenwzHAGqUcFP9V6ENr5/MHZ8XAFn9PAAAAKUGfYEURPCP/AAAOg31STV5rGPcO50uQ2JB/0QANKgRYJ8VCJ3KPQ2WBAAAANAGfgWpH/wAAF0GAFVyO827xQ6IGY4+dNqj9lsmZoW15JvL58yUp5mB1NRjhZUvEFe6gGYEAAADYQZuFSahBaJlMCFf//jhAAACte1h1ZQ8ZqZzMAIgzqPg8N3loR7kQ2MdLyoZrKfAqVDwuuA9hsyMdT/gYi9GDtak/kE45ygC1ZJfrMRzhG4s0muSY73+pdJclc8qbt6tiznL4PG9Jvjj09MbN71PDvGqzVvYQ3i5UOEi1CSkRxueyxOmRMgGtiiFQFuCp/AWwIRJiRxdUd5hCdO9pv9NWXj40n5THbeDe1V1tDVZKp+Ncql0yLeGx7wjYwCPR9/0RUHHaAlINFp6FCgyJVwc9E2tZN2wK3xqQAAAAXkGfo0URLCP/AAAOH//JmyFUSBSNRf1096JHDFE4ABq9bkoDXMUKHEXexKc+Ex9dnMahWEreKNSrlsgMsi4Okm3KJ+C3MsS2U6dWFvNzNwIpp+xcb3WsonC7YqTl52kAAABNAZ/Eakf/AAAWwZZO7QIkZHOSv8N8Yd2DiCZt4ABYkb7YHKBVMhm4FsZhoxblQd6pIFYd91Fhs4wIs7RtAkMeReu0NWlP1yX7GMfa9BEAAAB9QZvJSahBbJlMCP/8hAAACf+i49uZc8TF1kcjuE3Bd1BwRJqoBH7ALWXwCNotBhw232U2e5ojVkU7Qqu8+koF43qur2qGYtDM0Ofx5MChNOWEkM7q4JCTldapIGnnXynv76mBacRGyVYO4lwStsETFaurvbPHUnrjGECyFGEAAABhQZ/nRRUsI/8AAA3RDC46+EewMpLwABdRs0XjUxDFKIQexqN17h2nCby9HEPFEavMhGi5i9l8/j2kpjSKHekpPbbg2jMST1cZq1tV6nMI4mCGRmcnl7QqqtfUwjkvTwnIsQAAAEgBngZ0R/8AABYhGD2T57nEFzXya9UgwAC4YMxOMvE9K8MArYJn9hhDMtrcZ9Mw/YWMRx1ANzAhgXEK7hXmTcn05DCX8YTJ0kAAAAAcAZ4Iakf/AAADAyPbz3kDW//g0jqP5a87wiwndAAADBttb292AAAAbG12aGQAAAAAAAAAAAAAAAAAAAPoAAAPyAABAAABAAAAAAAAAAAAAAAAAQAAAAAAAAAAAAAAAAAAAAEAAAAAAAAAAAAAAAAAAEAAAAAAAAAAAAAAAAAAAAAAAAAAAAAAAAAAAAAAAAACAAALRXRyYWsAAABcdGtoZAAAAAMAAAAAAAAAAAAAAAEAAAAAAAAPyAAAAAAAAAAAAAAAAAAAAAAAAQAAAAAAAAAAAAAAAAAAAAEAAAAAAAAAAAAAAAAAAEAAAAACWAAAAZAAAAAAACRlZHRzAAAAHGVsc3QAAAAAAAAAAQAAD8gAAAIAAAEAAAAACr1tZGlhAAAAIG1kaGQAAAAAAAAAAAAAAAAAADIAAADKAFXEAAAAAAAtaGRscgAAAAAAAAAAdmlkZQAAAAAAAAAAAAAAAFZpZGVvSGFuZGxlcgAAAApobWluZgAAABR2bWhkAAAAAQAAAAAAAAAAAAAAJGRpbmYAAAAcZHJlZgAAAAAAAAABAAAADHVybCAAAAABAAAKKHN0YmwAAACYc3RzZAAAAAAAAAABAAAAiGF2YzEAAAAAAAAAAQAAAAAAAAAAAAAAAAAAAAACWAGQAEgAAABIAAAAAAAAAAEAAAAAAAAAAAAAAAAAAAAAAAAAAAAAAAAAAAAAAAAAAAAY//8AAAAyYXZjQwFkAB//4QAZZ2QAH6zZQJgz5eEAAAMAAQAAAwBkDxgxlgEABmjr48siwAAAABhzdHRzAAAAAAAAAAEAAADKAAABAAAAABRzdHNzAAAAAAAAAAEAAAABAAAF8GN0dHMAAAAAAAAAvAAAAAEAAAIAAAAAAQAABQAAAAABAAACAAAAAAEAAAAAAAAAAQAAAQAAAAABAAAEAAAAAAIAAAEAAAAAAQAABQAAAAABAAACAAAAAAEAAAAAAAAAAQAAAQAAAAABAAAFAAAAAAEAAAIAAAAAAQAAAAAAAAABAAABAAAAAAEAAAUAAAAAAQAAAgAAAAABAAAAAAAAAAEAAAEAAAAAAQAABQAAAAABAAACAAAAAAEAAAAAAAAAAQAAAQAAAAABAAAFAAAAAAEAAAIAAAAAAQAAAAAAAAABAAABAAAAAAEAAAUAAAAAAQAAAgAAAAABAAAAAAAAAAEAAAEAAAAAAQAABQAAAAABAAACAAAAAAEAAAAAAAAAAQAAAQAAAAABAAAFAAAAAAEAAAIAAAAAAQAAAAAAAAABAAABAAAAAAEAAAUAAAAAAQAAAgAAAAABAAAAAAAAAAEAAAEAAAAAAQAABQAAAAABAAACAAAAAAEAAAAAAAAAAQAAAQAAAAABAAAFAAAAAAEAAAIAAAAAAQAAAAAAAAABAAABAAAAAAEAAAQAAAAAAgAAAQAAAAABAAAFAAAAAAEAAAIAAAAAAQAAAAAAAAABAAABAAAAAAEAAAUAAAAAAQAAAgAAAAABAAAAAAAAAAEAAAEAAAAAAQAABQAAAAABAAACAAAAAAEAAAAAAAAAAQAAAQAAAAABAAAFAAAAAAEAAAIAAAAAAQAAAAAAAAABAAABAAAAAAEAAAUAAAAAAQAAAgAAAAABAAAAAAAAAAEAAAEAAAAAAQAABQAAAAABAAACAAAAAAEAAAAAAAAAAQAAAQAAAAABAAAFAAAAAAEAAAIAAAAAAQAAAAAAAAABAAABAAAAAAEAAAUAAAAAAQAAAgAAAAABAAAAAAAAAAEAAAEAAAAAAQAABQAAAAABAAACAAAAAAEAAAAAAAAAAQAAAQAAAAABAAAEAAAAAAIAAAEAAAAAAQAAAgAAAAABAAAFAAAAAAEAAAIAAAAAAQAAAAAAAAABAAABAAAAAAEAAAUAAAAAAQAAAgAAAAABAAAAAAAAAAEAAAEAAAAAAQAABQAAAAABAAACAAAAAAEAAAAAAAAAAQAAAQAAAAABAAADAAAAAAEAAAEAAAAAAQAABQAAAAABAAACAAAAAAEAAAAAAAAAAQAAAQAAAAABAAAFAAAAAAEAAAIAAAAAAQAAAAAAAAABAAABAAAAAAEAAAUAAAAAAQAAAgAAAAABAAAAAAAAAAEAAAEAAAAAAQAABQAAAAABAAACAAAAAAEAAAAAAAAAAQAAAQAAAAABAAAFAAAAAAEAAAIAAAAAAQAAAAAAAAABAAABAAAAAAEAAAQAAAAAAgAAAQAAAAABAAACAAAAAAEAAAUAAAAAAQAAAgAAAAABAAAAAAAAAAEAAAEAAAAAAQAAAwAAAAABAAABAAAAAAEAAAUAAAAAAQAAAgAAAAABAAAAAAAAAAEAAAEAAAAAAQAABAAAAAACAAABAAAAAAEAAAUAAAAAAQAAAgAAAAABAAAAAAAAAAEAAAEAAAAAAQAABQAAAAABAAACAAAAAAEAAAAAAAAAAQAAAQAAAAABAAAEAAAAAAIAAAEAAAAAAQAAAgAAAAABAAAEAAAAAAIAAAEAAAAAAgAAAgAAAAABAAAEAAAAAAIAAAEAAAAAAgAAAgAAAAABAAADAAAAAAEAAAEAAAAAAQAAAwAAAAABAAABAAAAAAEAAAQAAAAAAgAAAQAAAAABAAAFAAAAAAEAAAIAAAAAAQAAAAAAAAABAAABAAAAAAEAAAUAAAAAAQAAAgAAAAABAAAAAAAAAAEAAAEAAAAAAQAAAgAAAAABAAAEAAAAAAIAAAEAAAAAAQAAAgAAAAABAAADAAAAAAEAAAEAAAAAAQAAAwAAAAABAAABAAAAAAEAAAQAAAAAAgAAAQAAAAABAAAEAAAAAAIAAAEAAAAAAQAABQAAAAABAAACAAAAAAEAAAAAAAAAAQAAAQAAAAAcc3RzYwAAAAAAAAABAAAAAQAAAMoAAAABAAADPHN0c3oAAAAAAAAAAAAAAMoAAASPAAAAlQAAACwAAAAcAAAAJwAAADsAAAAmAAAAHwAAAGAAAAAqAAAAJAAAACMAAAA+AAAAJgAAABkAAAAeAAAATgAAACMAAAAUAAAAHwAAADYAAAA/AAAAHQAAACUAAABYAAAAIwAAAB4AAAAYAAAAcgAAACMAAAApAAAAIAAAAKYAAABCAAAAIAAAABwAAABrAAAAJAAAACMAAAAWAAAAXgAAACYAAAAdAAAALwAAAFsAAAApAAAAGwAAABsAAABaAAAANgAAACMAAAAxAAAAZQAAACwAAAAyAAAARQAAAD4AAAAvAAAAMwAAAHkAAAA9AAAAJwAAAD0AAABoAAAAPQAAACoAAAAvAAAAgwAAADgAAAAmAAAAKgAAAEgAAAAsAAAAJAAAACUAAABGAAAAQgAAACoAAAAnAAAARQAAACwAAAAmAAAAJwAAAFQAAAA1AAAAJQAAAC4AAABhAAAAQQAAADwAAAA9AAAAVgAAADAAAAAqAAAAeAAAAIkAAAA1AAAAIwAAAC4AAACEAAAAKQAAACkAAAA6AAAAUAAAAEQAAAAnAAAAJwAAAEYAAAAoAAAAfQAAADkAAAA4AAAANAAAAIsAAABDAAAAKgAAADQAAAB2AAAAOQAAADIAAAAtAAAAbgAAAEAAAAAyAAAAMgAAAF4AAAAtAAAAMgAAAC4AAAB5AAAAMgAAADkAAABHAAAAUAAAAEEAAAAzAAAAQAAAAIcAAAArAAAAZQAAADsAAAAnAAAAOQAAAGAAAAAwAAAAPwAAAIMAAABBAAAAKQAAAEAAAABZAAAATgAAADEAAABKAAAAeQAAADYAAAAtAAAAawAAAE0AAAA2AAAAMgAAAG8AAABHAAAAfgAAACwAAAA2AAAAVgAAAGoAAAB4AAAAKQAAAF0AAAA8AAAAcwAAADgAAAAxAAAARgAAADcAAAA6AAAAKQAAAGsAAAA2AAAAQQAAACUAAABoAAAARAAAACwAAAAkAAAAfQAAAGYAAAApAAAAcgAAADUAAACHAAAALQAAADgAAADcAAAAYgAAAFEAAACBAAAAZQAAAEwAAAAgAAAAFHN0Y28AAAAAAAAAAQAAADAAAABidWR0YQAAAFptZXRhAAAAAAAAACFoZGxyAAAAAAAAAABtZGlyYXBwbAAAAAAAAAAAAAAAAC1pbHN0AAAAJal0b28AAAAdZGF0YQAAAAEAAAAATGF2ZjU4LjI5LjEwMA==\" type=\"video/mp4\" />\n",
              "            </video>\n",
              "            "
            ]
          },
          "metadata": {}
        },
        {
          "output_type": "display_data",
          "data": {
            "text/plain": [
              "<IPython.core.display.HTML object>"
            ],
            "text/html": [
              "\n",
              "            <video controls>\n",
              "            <source src=\"data:video/mp4;base64,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\" type=\"video/mp4\" />\n",
              "            </video>\n",
              "            "
            ]
          },
          "metadata": {}
        },
        {
          "output_type": "display_data",
          "data": {
            "text/plain": [
              "<IPython.core.display.HTML object>"
            ],
            "text/html": [
              "\n",
              "            <video controls>\n",
              "            <source src=\"data:video/mp4;base64,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\" type=\"video/mp4\" />\n",
              "            </video>\n",
              "            "
            ]
          },
          "metadata": {}
        },
        {
          "output_type": "display_data",
          "data": {
            "text/plain": [
              "<IPython.core.display.HTML object>"
            ],
            "text/html": [
              "\n",
              "            <video controls>\n",
              "            <source src=\"data:video/mp4;base64,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\" type=\"video/mp4\" />\n",
              "            </video>\n",
              "            "
            ]
          },
          "metadata": {}
        },
        {
          "output_type": "display_data",
          "data": {
            "text/plain": [
              "<IPython.core.display.HTML object>"
            ],
            "text/html": [
              "\n",
              "            <video controls>\n",
              "            <source src=\"data:video/mp4;base64,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\" type=\"video/mp4\" />\n",
              "            </video>\n",
              "            "
            ]
          },
          "metadata": {}
        },
        {
          "output_type": "display_data",
          "data": {
            "text/plain": [
              "<IPython.core.display.HTML object>"
            ],
            "text/html": [
              "\n",
              "            <video controls>\n",
              "            <source src=\"data:video/mp4;base64,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\" type=\"video/mp4\" />\n",
              "            </video>\n",
              "            "
            ]
          },
          "metadata": {}
        }
      ]
    },
    {
      "cell_type": "markdown",
      "source": [
        "### 考察\n",
        "結果を見るとシミュレーション1から5までは片方向にずっと行ってしまうことがわかる。\n",
        "そして、シミュレーション6が一番中心に立って均衡を保つように見える。\n",
        "\n",
        "\n",
        "これを見て片方向にずっとカートが移動してしまうことを防ぐために以下のような報酬関数を追加するとどうなるか確認したいと思う。\n",
        "```\n",
        "def get_reward(observation, reward):\n",
        "    position, velocity, angle, angular_velocity = observation\n",
        "    # 中央に近い位置と角度を高く評価\n",
        "    angle_penalty = abs(angle)  # 角度が大きいときにパネルティ増加\n",
        "    position_penalty = abs(position)  # 中心から離れるとパネルティ増加\n",
        "    return reward - (angle_penalty + position_penalty)\n",
        "```\n",
        "\n",
        "これを利用してもう一回学習すると"
      ],
      "metadata": {
        "id": "YtR5X_b9vJIV"
      }
    },
    {
      "cell_type": "markdown",
      "source": [
        "#### 学習の設定"
      ],
      "metadata": {
        "id": "LK2ExlQp3550"
      }
    },
    {
      "cell_type": "code",
      "source": [
        "from datetime import datetime\n",
        "\n",
        "max_episode = 200  # 学習において繰り返す最大エピソード数\n",
        "max_step = 500  # 1エピソードの最大ステップ数\n",
        "n_warmup_steps = 10000  # warmupを行うステップ数\n",
        "save_interval = 1  # モデルを吐き出すステップ間隔\n",
        "possible_actions = [0, 1]  # 行動(action)の取りうる値のリスト\n",
        "gamma = 0.99  # 割引率\n",
        "epsilon = 0.1  # ε-greedyのパラメータ\n",
        "memory_size = 10000  # 取得した経験を保存するメモリバッファのサイズ\n",
        "batch_size = 128  # バッチサイズ\n",
        "target_update_interval = 10  # Double DQNにおいて、学習していない方のDQNのパラメータを更新する間隔\n",
        "result_dir = './result/pendulum' + datetime.now().strftime('%Y%m%d%H%M')  # 結果を保存するフォルダ（実行した時刻をフォルダ名に付ける）\n",
        "target_env = 'CartPole-v1'  # 学習対象の環境\n",
        "\n",
        "def get_reward(observation, reward):\n",
        "    position, velocity, angle, angular_velocity = observation\n",
        "    # 中央に近い位置と角度を高く評価\n",
        "    angle_penalty = abs(angle)  # 角度が大きいときにパネルティ増加\n",
        "    position_penalty = abs(position)  # 中心から離れるとパネルティ増加\n",
        "    return reward - (angle_penalty + position_penalty)\n"
      ],
      "metadata": {
        "id": "YnDzKcvI27FD"
      },
      "execution_count": 19,
      "outputs": []
    },
    {
      "cell_type": "markdown",
      "source": [
        "#### インスタンスの作成"
      ],
      "metadata": {
        "id": "FDjOIVSf4QSV"
      }
    },
    {
      "cell_type": "code",
      "source": [
        "import gymnasium as gym\n",
        "import os\n",
        "\n",
        "# 学習したモデルを保存するフォルダを作成\n",
        "os.makedirs(result_dir, exist_ok=True)\n",
        "print('保存先：' + result_dir)\n",
        "\n",
        "# 環境を作成\n",
        "env = gym.make(target_env)\n",
        "dim_state = env.env.observation_space.shape[0]\n",
        "\n",
        "# Q学習用のインスタンスを作成\n",
        "q_network = Qnetwork(dim_state, possible_actions, device=device, gamma=gamma)\n",
        "policy = EpsilonGreedyPolicy(q_network, epsilon=epsilon)"
      ],
      "metadata": {
        "colab": {
          "base_uri": "https://localhost:8080/"
        },
        "id": "x6M1szmo4Pt8",
        "outputId": "543620b6-49bc-4e4c-d085-6aa4929cb721"
      },
      "execution_count": 22,
      "outputs": [
        {
          "output_type": "stream",
          "name": "stdout",
          "text": [
            "保存先：./result/pendulum202501230636\n"
          ]
        }
      ]
    },
    {
      "cell_type": "markdown",
      "source": [
        "#### warm up処理"
      ],
      "metadata": {
        "id": "hdBlvytc3-No"
      }
    },
    {
      "cell_type": "code",
      "source": [
        "import random\n",
        "\n",
        "print('warming up {:,} steps...'.format(n_warmup_steps))\n",
        "memory = []\n",
        "state, info = env.reset()\n",
        "for step in range(n_warmup_steps):\n",
        "    action = random.choice(possible_actions)\n",
        "\n",
        "    observation, reward, terminated, truncated, info = env.step(action)\n",
        "\n",
        "    c_reward = get_reward(observation, reward)\n",
        "    memory.append((state, action, c_reward, observation, terminated, truncated))\n",
        "    state = observation\n",
        "\n",
        "    if terminated or truncated:\n",
        "        state, info = env.reset()\n",
        "\n",
        "memory = memory[-memory_size:]\n",
        "print('warming up {:,} steps... done.'.format(n_warmup_steps))"
      ],
      "metadata": {
        "colab": {
          "base_uri": "https://localhost:8080/"
        },
        "id": "kYVUotYF3w0a",
        "outputId": "32371fbe-3577-4ee7-86b1-fdc945ae1441"
      },
      "execution_count": 20,
      "outputs": [
        {
          "output_type": "stream",
          "name": "stdout",
          "text": [
            "warming up 10,000 steps...\n",
            "warming up 10,000 steps... done.\n"
          ]
        }
      ]
    },
    {
      "cell_type": "markdown",
      "source": [
        "#### DQNの学習"
      ],
      "metadata": {
        "id": "mfhHJhMJ4BdC"
      }
    },
    {
      "cell_type": "code",
      "source": [
        "import os\n",
        "import random\n",
        "import numpy as np\n",
        "\n",
        "print('training {:,} episodes...'.format(max_episode))\n",
        "for episode in range(max_episode):\n",
        "    episode_rewards, losses = [], []\n",
        "    state, info = env.reset()  # 環境を初期化\n",
        "\n",
        "    for step in range(max_step):\n",
        "        action, epsilon, q_values = policy.get_action(state, possible_actions)  # 次の行動を取得\n",
        "        observation, reward, terminated, truncated, info = env.step(action)  # 行動して結果を取得\n",
        "\n",
        "        c_reward = get_reward(observation, reward)  # 自身で定義した報酬関数から報酬を取得\n",
        "\n",
        "        memory.append((state, action, c_reward, observation, terminated, truncated))  # メモリバッファに行動の結果を保存\n",
        "        episode_rewards.append(c_reward)  # 報酬をリストに追加\n",
        "        exps = random.sample(memory, batch_size)  # メモリバッファからミニバッチを取得\n",
        "        loss, td_error = q_network.update_on_batch(exps)  # DQNのパラメータ更新\n",
        "        losses.append(loss)  # 学習時の損失をリストに追加\n",
        "\n",
        "        if q_network.double_mode and step % target_update_interval == 0:\n",
        "            q_network.sync_target_network(soft=0.01)  # 学習していない方のネットワークにパラメータを反映\n",
        "        state = observation  # 次の行動を推定するための状態を保存\n",
        "        memory = memory[-memory_size:]  # メモリバッファのサイズを超えた分を削除\n",
        "\n",
        "        # 環境の終了条件に該当した場合\n",
        "        if terminated or truncated:\n",
        "            reward_avg = np.mean(episode_rewards)  # 報酬の平均値を計算\n",
        "            loss_avg = np.mean(losses)  # 損失の平均値を計算\n",
        "            print('episode{} ... reward_avg:{} loss:{}'.format(episode, reward_avg, loss_avg))\n",
        "            if episode % save_interval == 0:\n",
        "                model_path = os.path.join(result_dir, 'episode_{:03}.pth'.format(episode))\n",
        "                q_network.save_model(model_path)  # 学習済みモデルを保存\n",
        "            break\n",
        "\n",
        "env.close()  # 環境のクローズ\n",
        "print('training {:,} episodes... done.'.format(max_episode))"
      ],
      "metadata": {
        "colab": {
          "base_uri": "https://localhost:8080/"
        },
        "id": "Bhfu_l-E3y32",
        "outputId": "2571036f-3413-475e-c655-f2fa256bba58"
      },
      "execution_count": 23,
      "outputs": [
        {
          "output_type": "stream",
          "name": "stdout",
          "text": [
            "training 200 episodes...\n",
            "episode0 ... reward_avg:0.8362614777870476 loss:0.8032387420535088\n",
            "episode1 ... reward_avg:0.8214510854333639 loss:0.815458458662033\n",
            "episode2 ... reward_avg:0.8774507148191333 loss:0.8058135569095611\n",
            "episode3 ... reward_avg:0.858284160391324 loss:0.7949362463421292\n",
            "episode4 ... reward_avg:0.8429965682327747 loss:0.7789298713207244\n",
            "episode5 ... reward_avg:0.8532610544934869 loss:0.7423019230365753\n",
            "episode6 ... reward_avg:0.8090750715798802 loss:0.7094431122144064\n",
            "episode7 ... reward_avg:0.8057234827429056 loss:0.7171853065490723\n",
            "episode8 ... reward_avg:0.8222808386975279 loss:0.9922081840535005\n",
            "episode9 ... reward_avg:0.8702264441177249 loss:1.6653286159038543\n",
            "episode10 ... reward_avg:0.8584396287798881 loss:2.0853296279907227\n",
            "episode11 ... reward_avg:0.8334620594978333 loss:2.5785897076129913\n",
            "episode12 ... reward_avg:0.8259687148034572 loss:2.8055988073349\n",
            "episode13 ... reward_avg:0.862198070436716 loss:3.832444167137146\n",
            "episode14 ... reward_avg:0.8367403335869312 loss:4.466427114274767\n",
            "episode15 ... reward_avg:0.8097971894524314 loss:3.76612342487682\n",
            "episode16 ... reward_avg:0.8583198947211107 loss:4.445203648673163\n",
            "episode17 ... reward_avg:0.8617368783801794 loss:5.357657265663147\n",
            "episode18 ... reward_avg:0.8298120357096195 loss:4.609058952331543\n",
            "episode19 ... reward_avg:0.8704977363348008 loss:4.828003001213074\n",
            "episode20 ... reward_avg:0.8632021203637124 loss:4.216474843025208\n",
            "episode21 ... reward_avg:0.8209846507757902 loss:5.720481789112091\n",
            "episode22 ... reward_avg:0.8256692472431395 loss:6.473142544428508\n",
            "episode23 ... reward_avg:0.8690581955015659 loss:4.832488172932675\n",
            "episode24 ... reward_avg:0.8718202754855156 loss:4.402434587478638\n",
            "episode25 ... reward_avg:0.794694546610117 loss:4.8838170653297786\n",
            "episode26 ... reward_avg:0.8606038520733515 loss:4.6652658700942995\n",
            "episode27 ... reward_avg:0.8559005537476295 loss:6.234436084062625\n",
            "episode28 ... reward_avg:0.760959325380446 loss:13.330788222097215\n",
            "episode29 ... reward_avg:0.6461452458604751 loss:18.765426236139216\n",
            "episode30 ... reward_avg:0.5513197366315662 loss:24.100413714901784\n",
            "episode31 ... reward_avg:0.445207759124946 loss:29.59969007516209\n",
            "episode32 ... reward_avg:0.5243180909639468 loss:41.28942625937255\n",
            "episode33 ... reward_avg:0.3606806391411844 loss:63.17776667370516\n",
            "episode34 ... reward_avg:0.49456373004242776 loss:86.86522452354431\n",
            "episode35 ... reward_avg:0.7443335502534125 loss:137.065552853383\n",
            "episode36 ... reward_avg:0.7963831952094274 loss:256.5924130714546\n",
            "episode37 ... reward_avg:0.49681061006281463 loss:403.21984446659025\n",
            "episode38 ... reward_avg:0.7119705447783837 loss:540.8245282295422\n",
            "episode39 ... reward_avg:0.5028856300223138 loss:775.3658406903667\n",
            "episode40 ... reward_avg:0.4648165641532263 loss:1019.082454748321\n",
            "episode41 ... reward_avg:0.320680510913396 loss:1457.209184695513\n",
            "episode42 ... reward_avg:0.4728423783174631 loss:1696.666215098988\n",
            "episode43 ... reward_avg:0.37536155845957114 loss:1936.6309457890356\n",
            "episode44 ... reward_avg:0.2616749496635869 loss:2719.403865956667\n",
            "episode45 ... reward_avg:0.23212194788178092 loss:2578.3503215352043\n",
            "episode46 ... reward_avg:0.21923663964414078 loss:2687.7702894127888\n",
            "episode47 ... reward_avg:0.16129845433169976 loss:3422.531628290812\n",
            "episode48 ... reward_avg:0.4222468879444622 loss:2982.842565455143\n",
            "episode49 ... reward_avg:0.4990315108430074 loss:3490.541394255882\n",
            "episode50 ... reward_avg:0.5675006860647327 loss:2802.6806769519117\n",
            "episode51 ... reward_avg:0.4844504417526214 loss:2488.386824028981\n",
            "episode52 ... reward_avg:0.480430311714796 loss:2402.348103398862\n",
            "episode53 ... reward_avg:0.1429836173132062 loss:2186.6183850708007\n",
            "episode54 ... reward_avg:0.31416081155836584 loss:1903.4401581420898\n",
            "episode55 ... reward_avg:0.22802705505233728 loss:1519.8179349583506\n",
            "episode56 ... reward_avg:0.3197428630554073 loss:1478.9660482860747\n",
            "episode57 ... reward_avg:0.2735120533977317 loss:1215.4483018706117\n",
            "episode58 ... reward_avg:0.21247673257150584 loss:1515.411237504747\n",
            "episode59 ... reward_avg:0.350260916387751 loss:1463.603526281932\n",
            "episode60 ... reward_avg:0.42803320218369645 loss:1643.4860321620724\n",
            "episode61 ... reward_avg:0.5056904410111144 loss:1125.8711142032705\n",
            "episode62 ... reward_avg:0.6317328736909384 loss:1105.7959888050857\n",
            "episode63 ... reward_avg:0.6872115509897888 loss:1252.8604953088493\n",
            "episode64 ... reward_avg:0.7044461250074745 loss:1480.2149658203125\n",
            "episode65 ... reward_avg:0.6880372573485535 loss:1214.9305845110605\n",
            "episode66 ... reward_avg:0.7086288601734695 loss:1230.3397106414145\n",
            "episode67 ... reward_avg:0.5841724061790634 loss:1195.7238685757507\n",
            "episode68 ... reward_avg:0.48644851974961234 loss:1041.5111513835627\n",
            "episode69 ... reward_avg:0.3216562823955576 loss:928.7724816965502\n",
            "episode70 ... reward_avg:0.028567073866724968 loss:668.0976606151726\n",
            "episode71 ... reward_avg:0.9285964706018567 loss:432.53410615539553\n",
            "episode72 ... reward_avg:0.8552665880819161 loss:414.4854925537109\n",
            "episode73 ... reward_avg:0.9718872956186533 loss:331.5586219787598\n",
            "episode74 ... reward_avg:0.8799374076011388 loss:275.3743314743042\n",
            "episode75 ... reward_avg:0.8564994167461991 loss:236.32035947418214\n",
            "episode76 ... reward_avg:0.895271985851709 loss:268.5761879951723\n",
            "episode77 ... reward_avg:0.8997467245572983 loss:264.2076661978195\n",
            "episode78 ... reward_avg:0.9709567053224891 loss:342.82797018432615\n",
            "episode79 ... reward_avg:0.8362190024025978 loss:294.96181364982357\n",
            "episode80 ... reward_avg:0.8665286921948957 loss:410.17312809915256\n",
            "episode81 ... reward_avg:0.776881401898799 loss:570.8786910416244\n",
            "episode82 ... reward_avg:0.8364617221790259 loss:499.49992389366275\n",
            "episode83 ... reward_avg:0.7631168845575302 loss:736.0688275337219\n",
            "episode84 ... reward_avg:0.3269387284766116 loss:707.3628489115591\n",
            "episode85 ... reward_avg:0.2842877435273138 loss:719.8966807661385\n",
            "episode86 ... reward_avg:0.848411648767069 loss:936.923426764352\n",
            "episode87 ... reward_avg:0.26831649585081396 loss:965.207980839893\n",
            "episode88 ... reward_avg:0.15210811128681487 loss:1093.2876466141056\n",
            "episode89 ... reward_avg:0.10133844728401878 loss:1199.5957862452458\n",
            "episode90 ... reward_avg:0.17425146138509817 loss:1023.0510078025076\n",
            "episode91 ... reward_avg:0.13542562973125155 loss:832.4490777217981\n",
            "episode92 ... reward_avg:0.060606541876919606 loss:664.6523150384138\n",
            "episode93 ... reward_avg:0.09563568700613871 loss:714.2113693320686\n",
            "episode94 ... reward_avg:0.06214797954331308 loss:745.9789812740863\n",
            "episode95 ... reward_avg:0.11147722765897056 loss:582.3469031471876\n",
            "episode96 ... reward_avg:0.09802282468734921 loss:526.4194812374515\n",
            "episode97 ... reward_avg:0.08985028358202585 loss:555.9529243791607\n",
            "episode98 ... reward_avg:0.27358977218596814 loss:449.9494301852058\n",
            "episode99 ... reward_avg:0.29532424250187783 loss:432.31869477492114\n",
            "episode100 ... reward_avg:0.22169978378199728 loss:370.5622039923147\n",
            "episode101 ... reward_avg:0.23915311034801787 loss:389.2034766948329\n",
            "episode102 ... reward_avg:0.25380921480059626 loss:318.9720111694336\n",
            "episode103 ... reward_avg:0.3815551211424172 loss:350.06090667724607\n",
            "episode104 ... reward_avg:0.3377119207840043 loss:283.88026865020055\n",
            "episode105 ... reward_avg:0.3019352810942147 loss:252.4746185198222\n",
            "episode106 ... reward_avg:0.21963532181347117 loss:226.29947165481184\n",
            "episode107 ... reward_avg:0.2246598097716124 loss:248.7848983648169\n",
            "episode108 ... reward_avg:0.15057021922859035 loss:241.4195657027395\n",
            "episode109 ... reward_avg:0.14599796247979005 loss:248.553621673584\n",
            "episode110 ... reward_avg:0.2267298212176875 loss:258.26046025125606\n",
            "episode111 ... reward_avg:0.18493800751413358 loss:239.18861545215952\n",
            "episode112 ... reward_avg:0.31181656691682086 loss:191.40660546042702\n",
            "episode113 ... reward_avg:0.21818570437608287 loss:191.44478765130043\n",
            "episode114 ... reward_avg:0.21678941926130882 loss:188.68770584693323\n",
            "episode115 ... reward_avg:0.21697119696799552 loss:141.0591061332009\n",
            "episode116 ... reward_avg:0.19524567438555615 loss:130.8069425855364\n",
            "episode117 ... reward_avg:0.20716248820018437 loss:111.66970904668172\n",
            "episode118 ... reward_avg:0.2699755996199591 loss:105.7720312663487\n",
            "episode119 ... reward_avg:0.4230730377147262 loss:113.2120168626923\n",
            "episode120 ... reward_avg:0.06308441635906353 loss:92.62759127562073\n",
            "episode121 ... reward_avg:0.5552437924432534 loss:101.66345999253357\n",
            "episode122 ... reward_avg:0.36538987925687677 loss:90.32212968574937\n",
            "episode123 ... reward_avg:0.8846822622185573 loss:116.13572730255127\n",
            "episode124 ... reward_avg:-0.04014660926853738 loss:102.04703779918391\n",
            "episode125 ... reward_avg:0.14444756110691848 loss:317.4937598957735\n",
            "episode126 ... reward_avg:0.9255421923575695 loss:299.5954317232458\n",
            "episode127 ... reward_avg:0.8716315868909338 loss:222.75714138575964\n",
            "episode128 ... reward_avg:0.866955784149468 loss:1649.18834177653\n",
            "episode129 ... reward_avg:0.856988437473774 loss:291.5783296064897\n",
            "episode130 ... reward_avg:0.8627724383365024 loss:1915.576764193448\n",
            "episode131 ... reward_avg:0.8617419463892778 loss:397.990727742513\n",
            "episode132 ... reward_avg:0.8793662996962667 loss:293.09495239257814\n",
            "episode133 ... reward_avg:0.836421128648978 loss:402.25802025428186\n",
            "episode134 ... reward_avg:0.8627468394115567 loss:297.6666208902995\n",
            "episode135 ... reward_avg:0.8679292673865954 loss:2449.806541442871\n",
            "episode136 ... reward_avg:0.7841325788980439 loss:619.8708808535621\n",
            "episode137 ... reward_avg:-0.1539723881027278 loss:1280.9227417889763\n",
            "episode138 ... reward_avg:0.401430737555027 loss:2466.9733370666504\n",
            "episode139 ... reward_avg:0.39848183796927333 loss:2668.551271789551\n",
            "episode140 ... reward_avg:0.20632434367305702 loss:5312.061825646295\n",
            "episode141 ... reward_avg:0.13482753864622543 loss:9664.822425624303\n",
            "episode142 ... reward_avg:0.18007801671822865 loss:15544.625396050347\n",
            "episode143 ... reward_avg:0.23775624205817036 loss:17144.86895660856\n",
            "episode144 ... reward_avg:0.4603195392891117 loss:21126.293873662533\n",
            "episode145 ... reward_avg:0.29772953790907536 loss:17915.811733459093\n",
            "episode146 ... reward_avg:0.29668189285116064 loss:32846.66678534614\n",
            "episode147 ... reward_avg:0.7501223512778157 loss:26220.75441380551\n",
            "episode148 ... reward_avg:0.189514791274943 loss:27089.833807720403\n",
            "episode149 ... reward_avg:0.31379804493147223 loss:21690.515725528494\n",
            "episode150 ... reward_avg:0.39774870967048076 loss:23977.34312415728\n",
            "episode151 ... reward_avg:0.39801416867412626 loss:16040.922256808812\n",
            "episode152 ... reward_avg:0.29578066992262997 loss:11994.933583984375\n",
            "episode153 ... reward_avg:0.20058004732709378 loss:7481.956523895264\n",
            "episode154 ... reward_avg:0.24216820783913134 loss:4628.892510114398\n",
            "episode155 ... reward_avg:0.32621528593898247 loss:3207.516051895317\n",
            "episode156 ... reward_avg:0.19381761821833524 loss:2969.025250628278\n",
            "episode157 ... reward_avg:0.17498563054571117 loss:2170.531600288723\n",
            "episode158 ... reward_avg:0.11435284698069495 loss:2686.776041120491\n",
            "episode159 ... reward_avg:0.08171187898877895 loss:2037.9828579989346\n",
            "episode160 ... reward_avg:-0.19827427798323333 loss:1459.650524230957\n",
            "episode161 ... reward_avg:0.027631508365273477 loss:1276.4888723144531\n",
            "episode162 ... reward_avg:0.19047839976847172 loss:1055.154411315918\n",
            "episode163 ... reward_avg:0.23489989253878593 loss:1210.6799954833984\n",
            "episode164 ... reward_avg:0.3266586020514369 loss:908.0442606811523\n",
            "episode165 ... reward_avg:0.3527580422461033 loss:543.5103874511718\n",
            "episode166 ... reward_avg:0.8094874387852063 loss:701.6241679944491\n",
            "episode167 ... reward_avg:0.3090057488097701 loss:418.8374963804733\n",
            "episode168 ... reward_avg:0.05380921797920378 loss:407.37654172683773\n",
            "episode169 ... reward_avg:0.7859088552787024 loss:418.84501558191636\n",
            "episode170 ... reward_avg:0.12522251643655913 loss:389.80310637179804\n",
            "episode171 ... reward_avg:0.06317994344636058 loss:423.0854915321296\n",
            "episode172 ... reward_avg:0.03121093934379428 loss:340.48877334594727\n",
            "episode173 ... reward_avg:-0.056601932067202314 loss:346.24743806748165\n",
            "episode174 ... reward_avg:0.0907447615959521 loss:333.0529262674266\n",
            "episode175 ... reward_avg:0.2814438006329921 loss:302.81658871558403\n",
            "episode176 ... reward_avg:0.41908468033363616 loss:275.220691257053\n",
            "episode177 ... reward_avg:0.9115485217645765 loss:350.7588309173584\n",
            "episode178 ... reward_avg:0.8233845105320216 loss:390.62885838317874\n",
            "episode179 ... reward_avg:0.7461538255922496 loss:628.9774081420899\n",
            "episode180 ... reward_avg:0.10148437316343188 loss:775.507801361084\n",
            "episode181 ... reward_avg:0.09693751201033592 loss:898.867718322754\n",
            "episode182 ... reward_avg:0.7056637615244835 loss:916.8998286895752\n",
            "episode183 ... reward_avg:0.4448639319613576 loss:293.7599827270508\n",
            "episode184 ... reward_avg:0.2166399946883321 loss:374.3441817626953\n",
            "episode185 ... reward_avg:-0.2526391820684075 loss:688.0268061370849\n",
            "episode186 ... reward_avg:-0.35654072403907777 loss:439.3543997497559\n",
            "episode187 ... reward_avg:-0.011313225770369173 loss:288.5271065979004\n",
            "episode188 ... reward_avg:0.0629495113864541 loss:193.81163091278077\n",
            "episode189 ... reward_avg:0.13597730708122252 loss:212.16727311706543\n",
            "episode190 ... reward_avg:0.15278368662297725 loss:173.31596757507324\n",
            "episode191 ... reward_avg:0.12260447445511818 loss:148.66356476593018\n",
            "episode192 ... reward_avg:0.037980438724160195 loss:138.22120835113526\n",
            "episode193 ... reward_avg:-0.09389427468925715 loss:152.00099919128417\n",
            "episode194 ... reward_avg:0.8850279199816287 loss:149.98675451660156\n",
            "episode195 ... reward_avg:0.7826413767351769 loss:96.51016830444335\n",
            "episode196 ... reward_avg:0.7790576176121831 loss:64.75691697311402\n",
            "episode197 ... reward_avg:0.867130193577148 loss:39.59194954109192\n",
            "episode198 ... reward_avg:0.8302793425312266 loss:30.659341556549073\n",
            "episode199 ... reward_avg:0.777564157832414 loss:22.106286682128907\n",
            "training 200 episodes... done.\n"
          ]
        }
      ]
    },
    {
      "cell_type": "markdown",
      "source": [
        "####  学習済みモデルを用いてPendulumの予測制御を行い、結果の動画を再生する"
      ],
      "metadata": {
        "id": "18qggK8Q4GLo"
      }
    },
    {
      "cell_type": "code",
      "source": [
        "import gymnasium as gym\n",
        "from gymnasium.wrappers import RecordVideo\n",
        "\n",
        "## 予測に用いる設定\n",
        "weight_path = result_dir + '/episode_{:03}.pth'.format(max_episode-1)\n",
        "max_step = 200  # 1エピソードの最大ステップ数\n",
        "possible_actions = [0, 1]  # 行動(action)の取りうる値のリスト\n",
        "episode_num = 10\n",
        "predict_movie_dir = result_dir + '/movie'\n",
        "videos = set()  # 保存したビデオ名を保存する集合\n",
        "\n",
        "## 環境を準備\n",
        "env = gym.make(target_env, render_mode='rgb_array')\n",
        "env = RecordVideo(env, predict_movie_dir)\n",
        "dim_state = env.env.observation_space.shape[0]\n",
        "\n",
        "q_network = Qnetwork(dim_state, possible_actions)\n",
        "q_network.main_network.load_state_dict(torch.load(weight_path,  map_location=device, weights_only=True))\n",
        "policy = EpsilonGreedyPolicy(q_network, epsilon=0)  # εを0にすることでランダムな行動が選択されないようにする\n",
        "\n",
        "print('start_episodes')\n",
        "for episode in range(episode_num):\n",
        "    state, info = env.reset(seed=episode)\n",
        "    score = 0\n",
        "    for step in range(max_step):\n",
        "        action, epsilon, q_values = policy.get_action(state, possible_actions)\n",
        "        next_state, reward, terminated, truncated, info = env.step(action)\n",
        "\n",
        "        score += reward\n",
        "        state = next_state\n",
        "        if terminated or truncated:\n",
        "            print('episode{}, score:{}'.format(episode, score))\n",
        "            break\n",
        "\n",
        "## 保存した動画の再生\n",
        "import base64\n",
        "import io\n",
        "import os\n",
        "from IPython.display import display, HTML\n",
        "\n",
        "## 結果の出力先を準備\n",
        "for f in os.listdir(predict_movie_dir):\n",
        "    if f.endswith('.mp4'):\n",
        "        video = io.open(predict_movie_dir + '/' + f, 'r+b').read()\n",
        "        encoded = base64.b64encode(video)\n",
        "\n",
        "        display(HTML(data='''\n",
        "            <video controls>\n",
        "            <source src=\"data:video/mp4;base64,{}\" type=\"video/mp4\" />\n",
        "            </video>\n",
        "            '''.format(encoded.decode('ascii'))))"
      ],
      "metadata": {
        "colab": {
          "base_uri": "https://localhost:8080/",
          "height": 1000
        },
        "id": "mTqcMdEi31wT",
        "outputId": "fa748a56-c10e-4262-b8c5-0000c78b5b22"
      },
      "execution_count": 24,
      "outputs": [
        {
          "output_type": "stream",
          "name": "stdout",
          "text": [
            "start_episodes\n"
          ]
        },
        {
          "output_type": "display_data",
          "data": {
            "text/plain": [
              "<IPython.core.display.HTML object>"
            ],
            "text/html": [
              "\n",
              "            <video controls>\n",
              "            <source src=\"data:video/mp4;base64,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\" type=\"video/mp4\" />\n",
              "            </video>\n",
              "            "
            ]
          },
          "metadata": {}
        },
        {
          "output_type": "display_data",
          "data": {
            "text/plain": [
              "<IPython.core.display.HTML object>"
            ],
            "text/html": [
              "\n",
              "            <video controls>\n",
              "            <source src=\"data:video/mp4;base64,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\" type=\"video/mp4\" />\n",
              "            </video>\n",
              "            "
            ]
          },
          "metadata": {}
        },
        {
          "output_type": "display_data",
          "data": {
            "text/plain": [
              "<IPython.core.display.HTML object>"
            ],
            "text/html": [
              "\n",
              "            <video controls>\n",
              "            <source src=\"data:video/mp4;base64,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\" type=\"video/mp4\" />\n",
              "            </video>\n",
              "            "
            ]
          },
          "metadata": {}
        }
      ]
    },
    {
      "cell_type": "markdown",
      "source": [
        "### 結論\n",
        "`CartPole-v1`環境は基本的な報酬と終了条件が定められている。\n",
        "* 報酬\n",
        "  * 終了ステップを含む、実行されたステップごとに+1\n",
        "\n",
        "* 終了条件\n",
        "    * 最大ステップ数（500）に到達する\n",
        "    * Poleの角度が±12°を超える\n",
        "    * Cartの位置が±2.4を超える\n",
        "\n",
        "これは`env.reset()`として環境を初期化するときに定められる。\n",
        "\n",
        "しかし、このように棒が倒れないと次のステップになることで報酬を+1もらうだけでは最初の結果のように片方向にずっと移動して終了してしまうことがよく起こる可能性がある。\n",
        "\n",
        "よって、中心から離れることと棒の中心からの角度が大きくなると報酬にパネルティを与えることでより中心に近い位置で均衡を保つことができるように学習することができると思う。\n",
        "\n",
        "実際に、パネルティを定義した学習のほうがより中心に近い位置で均衡を保つことが確認できるためこのようなパネルティは必要であると考えられる。"
      ],
      "metadata": {
        "id": "kAzermtN5g3q"
      }
    }
  ],
  "metadata": {
    "colab": {
      "provenance": [],
      "toc_visible": true
    },
    "kernelspec": {
      "display_name": "Python 3",
      "name": "python3"
    },
    "language_info": {
      "name": "python"
    }
  },
  "nbformat": 4,
  "nbformat_minor": 0
}